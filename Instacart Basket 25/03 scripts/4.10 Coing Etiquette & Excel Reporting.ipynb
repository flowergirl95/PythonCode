{
 "cells": [
  {
   "cell_type": "markdown",
   "id": "b9d305e5-0574-4a0e-b54f-82ea98c1554b",
   "metadata": {},
   "source": [
    "Coding Etiquette (Part 1)"
   ]
  },
  {
   "cell_type": "markdown",
   "id": "38cafacd-d9ec-4ea9-9213-8516c9486783",
   "metadata": {},
   "source": [
    "Table Of Contents:\n",
    "Import Libraries and Dataframes\n",
    "\n",
    "Create regional segmentation of data\n",
    "\n",
    "Create an exclusion flag for low-activity customers\n",
    "\n",
    "Generate Customer profiling Variables\n",
    "\n",
    "Aggregate the max, mean, and min variables on a customer-profile level for usage frequency and expenditure\n",
    "\n",
    "Region and Department based comparison between customer profiles\n",
    "\n",
    "Determine whether there’s a difference in spending habits between the different U.S. regions\n",
    "\n",
    "Visualizations\n",
    "\n",
    "Export Data"
   ]
  },
  {
   "cell_type": "code",
   "execution_count": 4,
   "id": "84e1c41f-6398-4034-ba94-f4140bd85603",
   "metadata": {},
   "outputs": [],
   "source": [
    "# Importing Libraries\n",
    "import pandas as pd\n",
    "import numpy as np\n",
    "import os\n",
    "import matplotlib.pyplot as plt\n",
    "import seaborn as sns\n",
    "import scipy"
   ]
  },
  {
   "cell_type": "code",
   "execution_count": 6,
   "id": "011c45d6-c949-4b68-b1e9-b5fcfcabf52f",
   "metadata": {},
   "outputs": [],
   "source": [
    "# Create a path\n",
    "path =r'C:\\Users\\beaac\\Instacart Basket 25'"
   ]
  },
  {
   "cell_type": "code",
   "execution_count": 8,
   "id": "e755ce52-213e-4b90-bda9-6e4d61d52ed5",
   "metadata": {},
   "outputs": [],
   "source": [
    "# Importing Dataframe\n",
    "df_merged= pd.read_pickle(os.path.join(path, '02 Data', 'Prepared Data', 'orders_products_customers_merged.pkl'))"
   ]
  },
  {
   "cell_type": "code",
   "execution_count": 10,
   "id": "e7e9fb90-d574-4047-bf80-18041b67bbf6",
   "metadata": {},
   "outputs": [
    {
     "data": {
      "text/html": [
       "<div>\n",
       "<style scoped>\n",
       "    .dataframe tbody tr th:only-of-type {\n",
       "        vertical-align: middle;\n",
       "    }\n",
       "\n",
       "    .dataframe tbody tr th {\n",
       "        vertical-align: top;\n",
       "    }\n",
       "\n",
       "    .dataframe thead th {\n",
       "        text-align: right;\n",
       "    }\n",
       "</style>\n",
       "<table border=\"1\" class=\"dataframe\">\n",
       "  <thead>\n",
       "    <tr style=\"text-align: right;\">\n",
       "      <th></th>\n",
       "      <th>Unnamed: 0</th>\n",
       "      <th>order_id</th>\n",
       "      <th>user_id</th>\n",
       "      <th>order_number</th>\n",
       "      <th>orders_day_of_week</th>\n",
       "      <th>order_hour_of_day</th>\n",
       "      <th>days_since_prior_order</th>\n",
       "      <th>product_id</th>\n",
       "      <th>add_to_cart_order</th>\n",
       "      <th>reordered</th>\n",
       "      <th>...</th>\n",
       "      <th>surname</th>\n",
       "      <th>gender</th>\n",
       "      <th>state</th>\n",
       "      <th>age</th>\n",
       "      <th>date_joined</th>\n",
       "      <th>n_dependants</th>\n",
       "      <th>marital_status</th>\n",
       "      <th>income</th>\n",
       "      <th>_merge</th>\n",
       "      <th>Region</th>\n",
       "    </tr>\n",
       "  </thead>\n",
       "  <tbody>\n",
       "    <tr>\n",
       "      <th>0</th>\n",
       "      <td>0</td>\n",
       "      <td>2539329</td>\n",
       "      <td>1</td>\n",
       "      <td>1</td>\n",
       "      <td>2</td>\n",
       "      <td>8</td>\n",
       "      <td>0.0</td>\n",
       "      <td>196</td>\n",
       "      <td>1</td>\n",
       "      <td>0</td>\n",
       "      <td>...</td>\n",
       "      <td>Nguyen</td>\n",
       "      <td>Female</td>\n",
       "      <td>Alabama</td>\n",
       "      <td>31</td>\n",
       "      <td>2/17/2019</td>\n",
       "      <td>3</td>\n",
       "      <td>married</td>\n",
       "      <td>40423</td>\n",
       "      <td>both</td>\n",
       "      <td>South</td>\n",
       "    </tr>\n",
       "    <tr>\n",
       "      <th>1</th>\n",
       "      <td>0</td>\n",
       "      <td>2539329</td>\n",
       "      <td>1</td>\n",
       "      <td>1</td>\n",
       "      <td>2</td>\n",
       "      <td>8</td>\n",
       "      <td>0.0</td>\n",
       "      <td>14084</td>\n",
       "      <td>2</td>\n",
       "      <td>0</td>\n",
       "      <td>...</td>\n",
       "      <td>Nguyen</td>\n",
       "      <td>Female</td>\n",
       "      <td>Alabama</td>\n",
       "      <td>31</td>\n",
       "      <td>2/17/2019</td>\n",
       "      <td>3</td>\n",
       "      <td>married</td>\n",
       "      <td>40423</td>\n",
       "      <td>both</td>\n",
       "      <td>South</td>\n",
       "    </tr>\n",
       "    <tr>\n",
       "      <th>2</th>\n",
       "      <td>0</td>\n",
       "      <td>2539329</td>\n",
       "      <td>1</td>\n",
       "      <td>1</td>\n",
       "      <td>2</td>\n",
       "      <td>8</td>\n",
       "      <td>0.0</td>\n",
       "      <td>12427</td>\n",
       "      <td>3</td>\n",
       "      <td>0</td>\n",
       "      <td>...</td>\n",
       "      <td>Nguyen</td>\n",
       "      <td>Female</td>\n",
       "      <td>Alabama</td>\n",
       "      <td>31</td>\n",
       "      <td>2/17/2019</td>\n",
       "      <td>3</td>\n",
       "      <td>married</td>\n",
       "      <td>40423</td>\n",
       "      <td>both</td>\n",
       "      <td>South</td>\n",
       "    </tr>\n",
       "    <tr>\n",
       "      <th>3</th>\n",
       "      <td>0</td>\n",
       "      <td>2539329</td>\n",
       "      <td>1</td>\n",
       "      <td>1</td>\n",
       "      <td>2</td>\n",
       "      <td>8</td>\n",
       "      <td>0.0</td>\n",
       "      <td>26088</td>\n",
       "      <td>4</td>\n",
       "      <td>0</td>\n",
       "      <td>...</td>\n",
       "      <td>Nguyen</td>\n",
       "      <td>Female</td>\n",
       "      <td>Alabama</td>\n",
       "      <td>31</td>\n",
       "      <td>2/17/2019</td>\n",
       "      <td>3</td>\n",
       "      <td>married</td>\n",
       "      <td>40423</td>\n",
       "      <td>both</td>\n",
       "      <td>South</td>\n",
       "    </tr>\n",
       "    <tr>\n",
       "      <th>4</th>\n",
       "      <td>0</td>\n",
       "      <td>2539329</td>\n",
       "      <td>1</td>\n",
       "      <td>1</td>\n",
       "      <td>2</td>\n",
       "      <td>8</td>\n",
       "      <td>0.0</td>\n",
       "      <td>26405</td>\n",
       "      <td>5</td>\n",
       "      <td>0</td>\n",
       "      <td>...</td>\n",
       "      <td>Nguyen</td>\n",
       "      <td>Female</td>\n",
       "      <td>Alabama</td>\n",
       "      <td>31</td>\n",
       "      <td>2/17/2019</td>\n",
       "      <td>3</td>\n",
       "      <td>married</td>\n",
       "      <td>40423</td>\n",
       "      <td>both</td>\n",
       "      <td>South</td>\n",
       "    </tr>\n",
       "  </tbody>\n",
       "</table>\n",
       "<p>5 rows × 37 columns</p>\n",
       "</div>"
      ],
      "text/plain": [
       "   Unnamed: 0 order_id  user_id  order_number  orders_day_of_week  \\\n",
       "0           0  2539329        1             1                   2   \n",
       "1           0  2539329        1             1                   2   \n",
       "2           0  2539329        1             1                   2   \n",
       "3           0  2539329        1             1                   2   \n",
       "4           0  2539329        1             1                   2   \n",
       "\n",
       "   order_hour_of_day  days_since_prior_order  product_id  add_to_cart_order  \\\n",
       "0                  8                     0.0         196                  1   \n",
       "1                  8                     0.0       14084                  2   \n",
       "2                  8                     0.0       12427                  3   \n",
       "3                  8                     0.0       26088                  4   \n",
       "4                  8                     0.0       26405                  5   \n",
       "\n",
       "   reordered  ... surname  gender    state  age date_joined n_dependants  \\\n",
       "0          0  ...  Nguyen  Female  Alabama   31   2/17/2019            3   \n",
       "1          0  ...  Nguyen  Female  Alabama   31   2/17/2019            3   \n",
       "2          0  ...  Nguyen  Female  Alabama   31   2/17/2019            3   \n",
       "3          0  ...  Nguyen  Female  Alabama   31   2/17/2019            3   \n",
       "4          0  ...  Nguyen  Female  Alabama   31   2/17/2019            3   \n",
       "\n",
       "  marital_status income _merge Region  \n",
       "0        married  40423   both  South  \n",
       "1        married  40423   both  South  \n",
       "2        married  40423   both  South  \n",
       "3        married  40423   both  South  \n",
       "4        married  40423   both  South  \n",
       "\n",
       "[5 rows x 37 columns]"
      ]
     },
     "execution_count": 10,
     "metadata": {},
     "output_type": "execute_result"
    }
   ],
   "source": [
    "# Verify imported df\n",
    "df_merged.head(5)"
   ]
  },
  {
   "cell_type": "markdown",
   "id": "4f73d08a-ea2d-4201-a3b1-30a09b2f0ae2",
   "metadata": {},
   "source": [
    "Create regional segmentation of the data by creating a Region column based on the Satate column from the dataframe"
   ]
  },
  {
   "cell_type": "code",
   "execution_count": 13,
   "id": "c7592643-e685-4dea-b049-793a99675bf6",
   "metadata": {},
   "outputs": [],
   "source": [
    "# Northeast Region - allocating division 1 and 2 (using information from wikipedia )\n",
    "# Division 1\n",
    "df_merged.loc[df_merged['state'] == 'Maine', 'Region'] = 'Northeast'\n",
    "df_merged.loc[df_merged['state'] == 'New Hampshire', 'Region'] = 'Northeast'\n",
    "df_merged.loc[df_merged['state'] == 'Vermont', 'Region'] = 'Northeast'\n",
    "df_merged.loc[df_merged['state'] == 'Massachusetts', 'Region'] = 'Northeast'\n",
    "df_merged.loc[df_merged['state'] == 'Rhode Island', 'Region'] = 'Northeast'\n",
    "df_merged.loc[df_merged['state'] == 'Connecticut', 'Region'] = 'Northeast'\n",
    "# Division 2\n",
    "df_merged.loc[df_merged['state'] == 'New York', 'Region'] = 'Northeast'\n",
    "df_merged.loc[df_merged['state'] == 'Pennsylvania', 'Region'] = 'Northeast'\n",
    "df_merged.loc[df_merged['state'] == 'New Jersey', 'Region'] = 'Northeast'\n"
   ]
  },
  {
   "cell_type": "code",
   "execution_count": 15,
   "id": "815e38cc-9de1-4c10-8d15-8b27fcd1ef7e",
   "metadata": {},
   "outputs": [],
   "source": [
    "# Midwest Region -allocating division 3 and 4 (using information from wikipedia)\n",
    "# Division 3\n",
    "df_merged.loc[df_merged['state'] == 'Wisconsin', 'Region'] = 'Midwest'\n",
    "df_merged.loc[df_merged['state'] == 'Michigan', 'Region'] = 'Midwest'\n",
    "df_merged.loc[df_merged['state'] == 'Illinois', 'Region'] = 'Midwest'\n",
    "df_merged.loc[df_merged['state'] == 'Indiana', 'Region'] = 'Midwest'\n",
    "df_merged.loc[df_merged['state'] == 'Ohio', 'Region'] = 'Midwest'\n",
    "# Division 4\n",
    "df_merged.loc[df_merged['state'] == 'North Dakota', 'Region'] = 'Midwest'\n",
    "df_merged.loc[df_merged['state'] == 'South Dakota', 'Region'] = 'Midwest'\n",
    "df_merged.loc[df_merged['state'] == 'Nebraska', 'Region'] = 'Midwest'\n",
    "df_merged.loc[df_merged['state'] == 'Kansas', 'Region'] = 'Midwest'\n",
    "df_merged.loc[df_merged['state'] == 'Minnesota', 'Region'] = 'Midwest'\n",
    "df_merged.loc[df_merged['state'] == 'Iowa', 'Region'] = 'Midwest'\n",
    "df_merged.loc[df_merged['state'] == 'Missouri', 'Region'] = 'Midwest'"
   ]
  },
  {
   "cell_type": "code",
   "execution_count": 17,
   "id": "f70fc9a4-ae86-4baf-8c5f-a6214611a663",
   "metadata": {},
   "outputs": [],
   "source": [
    "# South Region - allocating division 5,6 and 7 (using information from wikipedia)\n",
    "df_merged.loc[df_merged['state'] == 'Delaware', 'Region'] = 'South'\n",
    "df_merged.loc[df_merged['state'] == 'Maryland', 'Region'] = 'South'\n",
    "df_merged.loc[df_merged['state'] == 'District of Columbia', 'Region'] = 'South'\n",
    "df_merged.loc[df_merged['state'] == 'Virginia', 'Region'] = 'South'\n",
    "df_merged.loc[df_merged['state'] == 'West Virginia', 'Region'] = 'South'\n",
    "df_merged.loc[df_merged['state'] == 'North Carolina', 'Region'] = 'South'\n",
    "df_merged.loc[df_merged['state'] == 'South Carolina', 'Region'] = 'South'\n",
    "df_merged.loc[df_merged['state'] == 'Georgia', 'Region'] = 'South'\n",
    "df_merged.loc[df_merged['state'] == 'Florida', 'Region'] = 'South'\n",
    "# Division 6\n",
    "df_merged.loc[df_merged['state'] == 'Kentucky', 'Region'] = 'South'\n",
    "df_merged.loc[df_merged['state'] == 'Tennessee', 'Region'] = 'South'\n",
    "df_merged.loc[df_merged['state'] == 'Mississippi', 'Region'] = 'South'\n",
    "df_merged.loc[df_merged['state'] == 'Alabama', 'Region'] = 'South'\n",
    "# Division 7\n",
    "df_merged.loc[df_merged['state'] == 'Oklahoma', 'Region'] = 'South'\n",
    "df_merged.loc[df_merged['state'] == 'Texas', 'Region'] = 'South'\n",
    "df_merged.loc[df_merged['state'] == 'Arkansas', 'Region'] = 'South'\n",
    "df_merged.loc[df_merged['state'] == 'Louisiana', 'Region'] = 'South'"
   ]
  },
  {
   "cell_type": "code",
   "execution_count": 18,
   "id": "c1d9f33d-1daa-4122-8363-68d0da4445a6",
   "metadata": {},
   "outputs": [],
   "source": [
    "# West Region - allocating division 8 and 9 (using information from wikipedia)\n",
    "# Division 8\n",
    "df_merged.loc[df_merged['state'] == 'Idaho', 'Region'] = 'West'\n",
    "df_merged.loc[df_merged['state'] == 'Montana', 'Region'] = 'West'\n",
    "df_merged.loc[df_merged['state'] == 'Wyoming', 'Region'] = 'West'\n",
    "df_merged.loc[df_merged['state'] == 'Nevada', 'Region'] = 'West'\n",
    "df_merged.loc[df_merged['state'] == 'Utah', 'Region'] = 'West'\n",
    "df_merged.loc[df_merged['state'] == 'Colorado', 'Region'] = 'West'\n",
    "df_merged.loc[df_merged['state'] == 'Arizona', 'Region'] = 'West'\n",
    "df_merged.loc[df_merged['state'] == 'New Mexico', 'Region'] = 'West'\n",
    "# Division 9\n",
    "df_merged.loc[df_merged['state'] == 'Alaska', 'Region'] = 'West'\n",
    "df_merged.loc[df_merged['state'] == 'Washington', 'Region'] = 'West'\n",
    "df_merged.loc[df_merged['state'] == 'Oregon', 'Region'] = 'West'\n",
    "df_merged.loc[df_merged['state'] == 'California', 'Region'] = 'West'\n",
    "df_merged.loc[df_merged['state'] == 'Hawaii', 'Region'] = 'West'"
   ]
  },
  {
   "cell_type": "code",
   "execution_count": 19,
   "id": "bd5f5377-cdc2-4de0-b5ed-9228f5b11973",
   "metadata": {},
   "outputs": [
    {
     "data": {
      "text/html": [
       "<div>\n",
       "<style scoped>\n",
       "    .dataframe tbody tr th:only-of-type {\n",
       "        vertical-align: middle;\n",
       "    }\n",
       "\n",
       "    .dataframe tbody tr th {\n",
       "        vertical-align: top;\n",
       "    }\n",
       "\n",
       "    .dataframe thead th {\n",
       "        text-align: right;\n",
       "    }\n",
       "</style>\n",
       "<table border=\"1\" class=\"dataframe\">\n",
       "  <thead>\n",
       "    <tr style=\"text-align: right;\">\n",
       "      <th></th>\n",
       "      <th>Unnamed: 0</th>\n",
       "      <th>order_id</th>\n",
       "      <th>user_id</th>\n",
       "      <th>order_number</th>\n",
       "      <th>orders_day_of_week</th>\n",
       "      <th>order_hour_of_day</th>\n",
       "      <th>days_since_prior_order</th>\n",
       "      <th>product_id</th>\n",
       "      <th>add_to_cart_order</th>\n",
       "      <th>reordered</th>\n",
       "      <th>...</th>\n",
       "      <th>surname</th>\n",
       "      <th>gender</th>\n",
       "      <th>state</th>\n",
       "      <th>age</th>\n",
       "      <th>date_joined</th>\n",
       "      <th>n_dependants</th>\n",
       "      <th>marital_status</th>\n",
       "      <th>income</th>\n",
       "      <th>_merge</th>\n",
       "      <th>Region</th>\n",
       "    </tr>\n",
       "  </thead>\n",
       "  <tbody>\n",
       "    <tr>\n",
       "      <th>0</th>\n",
       "      <td>0</td>\n",
       "      <td>2539329</td>\n",
       "      <td>1</td>\n",
       "      <td>1</td>\n",
       "      <td>2</td>\n",
       "      <td>8</td>\n",
       "      <td>0.0</td>\n",
       "      <td>196</td>\n",
       "      <td>1</td>\n",
       "      <td>0</td>\n",
       "      <td>...</td>\n",
       "      <td>Nguyen</td>\n",
       "      <td>Female</td>\n",
       "      <td>Alabama</td>\n",
       "      <td>31</td>\n",
       "      <td>2/17/2019</td>\n",
       "      <td>3</td>\n",
       "      <td>married</td>\n",
       "      <td>40423</td>\n",
       "      <td>both</td>\n",
       "      <td>South</td>\n",
       "    </tr>\n",
       "    <tr>\n",
       "      <th>1</th>\n",
       "      <td>0</td>\n",
       "      <td>2539329</td>\n",
       "      <td>1</td>\n",
       "      <td>1</td>\n",
       "      <td>2</td>\n",
       "      <td>8</td>\n",
       "      <td>0.0</td>\n",
       "      <td>14084</td>\n",
       "      <td>2</td>\n",
       "      <td>0</td>\n",
       "      <td>...</td>\n",
       "      <td>Nguyen</td>\n",
       "      <td>Female</td>\n",
       "      <td>Alabama</td>\n",
       "      <td>31</td>\n",
       "      <td>2/17/2019</td>\n",
       "      <td>3</td>\n",
       "      <td>married</td>\n",
       "      <td>40423</td>\n",
       "      <td>both</td>\n",
       "      <td>South</td>\n",
       "    </tr>\n",
       "    <tr>\n",
       "      <th>2</th>\n",
       "      <td>0</td>\n",
       "      <td>2539329</td>\n",
       "      <td>1</td>\n",
       "      <td>1</td>\n",
       "      <td>2</td>\n",
       "      <td>8</td>\n",
       "      <td>0.0</td>\n",
       "      <td>12427</td>\n",
       "      <td>3</td>\n",
       "      <td>0</td>\n",
       "      <td>...</td>\n",
       "      <td>Nguyen</td>\n",
       "      <td>Female</td>\n",
       "      <td>Alabama</td>\n",
       "      <td>31</td>\n",
       "      <td>2/17/2019</td>\n",
       "      <td>3</td>\n",
       "      <td>married</td>\n",
       "      <td>40423</td>\n",
       "      <td>both</td>\n",
       "      <td>South</td>\n",
       "    </tr>\n",
       "    <tr>\n",
       "      <th>3</th>\n",
       "      <td>0</td>\n",
       "      <td>2539329</td>\n",
       "      <td>1</td>\n",
       "      <td>1</td>\n",
       "      <td>2</td>\n",
       "      <td>8</td>\n",
       "      <td>0.0</td>\n",
       "      <td>26088</td>\n",
       "      <td>4</td>\n",
       "      <td>0</td>\n",
       "      <td>...</td>\n",
       "      <td>Nguyen</td>\n",
       "      <td>Female</td>\n",
       "      <td>Alabama</td>\n",
       "      <td>31</td>\n",
       "      <td>2/17/2019</td>\n",
       "      <td>3</td>\n",
       "      <td>married</td>\n",
       "      <td>40423</td>\n",
       "      <td>both</td>\n",
       "      <td>South</td>\n",
       "    </tr>\n",
       "    <tr>\n",
       "      <th>4</th>\n",
       "      <td>0</td>\n",
       "      <td>2539329</td>\n",
       "      <td>1</td>\n",
       "      <td>1</td>\n",
       "      <td>2</td>\n",
       "      <td>8</td>\n",
       "      <td>0.0</td>\n",
       "      <td>26405</td>\n",
       "      <td>5</td>\n",
       "      <td>0</td>\n",
       "      <td>...</td>\n",
       "      <td>Nguyen</td>\n",
       "      <td>Female</td>\n",
       "      <td>Alabama</td>\n",
       "      <td>31</td>\n",
       "      <td>2/17/2019</td>\n",
       "      <td>3</td>\n",
       "      <td>married</td>\n",
       "      <td>40423</td>\n",
       "      <td>both</td>\n",
       "      <td>South</td>\n",
       "    </tr>\n",
       "  </tbody>\n",
       "</table>\n",
       "<p>5 rows × 37 columns</p>\n",
       "</div>"
      ],
      "text/plain": [
       "   Unnamed: 0 order_id  user_id  order_number  orders_day_of_week  \\\n",
       "0           0  2539329        1             1                   2   \n",
       "1           0  2539329        1             1                   2   \n",
       "2           0  2539329        1             1                   2   \n",
       "3           0  2539329        1             1                   2   \n",
       "4           0  2539329        1             1                   2   \n",
       "\n",
       "   order_hour_of_day  days_since_prior_order  product_id  add_to_cart_order  \\\n",
       "0                  8                     0.0         196                  1   \n",
       "1                  8                     0.0       14084                  2   \n",
       "2                  8                     0.0       12427                  3   \n",
       "3                  8                     0.0       26088                  4   \n",
       "4                  8                     0.0       26405                  5   \n",
       "\n",
       "   reordered  ... surname  gender    state  age date_joined n_dependants  \\\n",
       "0          0  ...  Nguyen  Female  Alabama   31   2/17/2019            3   \n",
       "1          0  ...  Nguyen  Female  Alabama   31   2/17/2019            3   \n",
       "2          0  ...  Nguyen  Female  Alabama   31   2/17/2019            3   \n",
       "3          0  ...  Nguyen  Female  Alabama   31   2/17/2019            3   \n",
       "4          0  ...  Nguyen  Female  Alabama   31   2/17/2019            3   \n",
       "\n",
       "  marital_status income _merge Region  \n",
       "0        married  40423   both  South  \n",
       "1        married  40423   both  South  \n",
       "2        married  40423   both  South  \n",
       "3        married  40423   both  South  \n",
       "4        married  40423   both  South  \n",
       "\n",
       "[5 rows x 37 columns]"
      ]
     },
     "execution_count": 19,
     "metadata": {},
     "output_type": "execute_result"
    }
   ],
   "source": [
    "# Verify the allocation of the Region column \n",
    "df_merged.head(5)"
   ]
  },
  {
   "cell_type": "code",
   "execution_count": 23,
   "id": "e206c7f5-95e3-4c5a-b702-5f5e73075be2",
   "metadata": {},
   "outputs": [],
   "source": [
    "#Evaluate differences in spending habits across different regions\n",
    "Crosstab= pd.crosstab(df_merged['Region'],df_merged['income'],dropna= False)"
   ]
  },
  {
   "cell_type": "code",
   "execution_count": 24,
   "id": "3bc1a645-b7e9-4463-8ee9-19c54eb91d64",
   "metadata": {},
   "outputs": [],
   "source": [
    "#copy output to the clipboard\n",
    "Crosstab.to_clipboard()"
   ]
  },
  {
   "cell_type": "code",
   "execution_count": 25,
   "id": "b07bf012-61df-4ae2-916a-8ef472d6d723",
   "metadata": {},
   "outputs": [],
   "source": [
    "# Export updated df\n",
    "df_merged.to_pickle(os.path.join(path,'02 data', 'Prepared data', 'orders_products_customers_merged.pkl'))"
   ]
  },
  {
   "cell_type": "markdown",
   "id": "145deb54-772c-4f79-bd02-3d6bdd4d8f7f",
   "metadata": {},
   "source": [
    "Create an exclusion flag for low-activity customers"
   ]
  },
  {
   "cell_type": "code",
   "execution_count": 29,
   "id": "9d875fc8-b9b3-48dd-8d5c-56a9c495b766",
   "metadata": {},
   "outputs": [],
   "source": [
    "# Create a exclusion flag for the low activity customers(less than 5 orders)\n",
    "df_merged.loc[df_merged['max_order'] < 5, 'Customer_Activity'] = 'LOW'\n",
    "df_merged.loc[df_merged['max_order'] >= 5, 'Customer_Activity'] = 'HIGH'"
   ]
  },
  {
   "cell_type": "code",
   "execution_count": 32,
   "id": "e6c33d8a-9717-406f-a469-2d2e35354c10",
   "metadata": {},
   "outputs": [
    {
     "data": {
      "text/html": [
       "<div>\n",
       "<style scoped>\n",
       "    .dataframe tbody tr th:only-of-type {\n",
       "        vertical-align: middle;\n",
       "    }\n",
       "\n",
       "    .dataframe tbody tr th {\n",
       "        vertical-align: top;\n",
       "    }\n",
       "\n",
       "    .dataframe thead th {\n",
       "        text-align: right;\n",
       "    }\n",
       "</style>\n",
       "<table border=\"1\" class=\"dataframe\">\n",
       "  <thead>\n",
       "    <tr style=\"text-align: right;\">\n",
       "      <th></th>\n",
       "      <th>Unnamed: 0</th>\n",
       "      <th>order_id</th>\n",
       "      <th>user_id</th>\n",
       "      <th>order_number</th>\n",
       "      <th>orders_day_of_week</th>\n",
       "      <th>order_hour_of_day</th>\n",
       "      <th>days_since_prior_order</th>\n",
       "      <th>product_id</th>\n",
       "      <th>add_to_cart_order</th>\n",
       "      <th>reordered</th>\n",
       "      <th>...</th>\n",
       "      <th>gender</th>\n",
       "      <th>state</th>\n",
       "      <th>age</th>\n",
       "      <th>date_joined</th>\n",
       "      <th>n_dependants</th>\n",
       "      <th>marital_status</th>\n",
       "      <th>income</th>\n",
       "      <th>_merge</th>\n",
       "      <th>Region</th>\n",
       "      <th>Customer_Activity</th>\n",
       "    </tr>\n",
       "  </thead>\n",
       "  <tbody>\n",
       "    <tr>\n",
       "      <th>0</th>\n",
       "      <td>0</td>\n",
       "      <td>2539329</td>\n",
       "      <td>1</td>\n",
       "      <td>1</td>\n",
       "      <td>2</td>\n",
       "      <td>8</td>\n",
       "      <td>0.0</td>\n",
       "      <td>196</td>\n",
       "      <td>1</td>\n",
       "      <td>0</td>\n",
       "      <td>...</td>\n",
       "      <td>Female</td>\n",
       "      <td>Alabama</td>\n",
       "      <td>31</td>\n",
       "      <td>2/17/2019</td>\n",
       "      <td>3</td>\n",
       "      <td>married</td>\n",
       "      <td>40423</td>\n",
       "      <td>both</td>\n",
       "      <td>South</td>\n",
       "      <td>HIGH</td>\n",
       "    </tr>\n",
       "    <tr>\n",
       "      <th>1</th>\n",
       "      <td>0</td>\n",
       "      <td>2539329</td>\n",
       "      <td>1</td>\n",
       "      <td>1</td>\n",
       "      <td>2</td>\n",
       "      <td>8</td>\n",
       "      <td>0.0</td>\n",
       "      <td>14084</td>\n",
       "      <td>2</td>\n",
       "      <td>0</td>\n",
       "      <td>...</td>\n",
       "      <td>Female</td>\n",
       "      <td>Alabama</td>\n",
       "      <td>31</td>\n",
       "      <td>2/17/2019</td>\n",
       "      <td>3</td>\n",
       "      <td>married</td>\n",
       "      <td>40423</td>\n",
       "      <td>both</td>\n",
       "      <td>South</td>\n",
       "      <td>HIGH</td>\n",
       "    </tr>\n",
       "    <tr>\n",
       "      <th>2</th>\n",
       "      <td>0</td>\n",
       "      <td>2539329</td>\n",
       "      <td>1</td>\n",
       "      <td>1</td>\n",
       "      <td>2</td>\n",
       "      <td>8</td>\n",
       "      <td>0.0</td>\n",
       "      <td>12427</td>\n",
       "      <td>3</td>\n",
       "      <td>0</td>\n",
       "      <td>...</td>\n",
       "      <td>Female</td>\n",
       "      <td>Alabama</td>\n",
       "      <td>31</td>\n",
       "      <td>2/17/2019</td>\n",
       "      <td>3</td>\n",
       "      <td>married</td>\n",
       "      <td>40423</td>\n",
       "      <td>both</td>\n",
       "      <td>South</td>\n",
       "      <td>HIGH</td>\n",
       "    </tr>\n",
       "    <tr>\n",
       "      <th>3</th>\n",
       "      <td>0</td>\n",
       "      <td>2539329</td>\n",
       "      <td>1</td>\n",
       "      <td>1</td>\n",
       "      <td>2</td>\n",
       "      <td>8</td>\n",
       "      <td>0.0</td>\n",
       "      <td>26088</td>\n",
       "      <td>4</td>\n",
       "      <td>0</td>\n",
       "      <td>...</td>\n",
       "      <td>Female</td>\n",
       "      <td>Alabama</td>\n",
       "      <td>31</td>\n",
       "      <td>2/17/2019</td>\n",
       "      <td>3</td>\n",
       "      <td>married</td>\n",
       "      <td>40423</td>\n",
       "      <td>both</td>\n",
       "      <td>South</td>\n",
       "      <td>HIGH</td>\n",
       "    </tr>\n",
       "    <tr>\n",
       "      <th>4</th>\n",
       "      <td>0</td>\n",
       "      <td>2539329</td>\n",
       "      <td>1</td>\n",
       "      <td>1</td>\n",
       "      <td>2</td>\n",
       "      <td>8</td>\n",
       "      <td>0.0</td>\n",
       "      <td>26405</td>\n",
       "      <td>5</td>\n",
       "      <td>0</td>\n",
       "      <td>...</td>\n",
       "      <td>Female</td>\n",
       "      <td>Alabama</td>\n",
       "      <td>31</td>\n",
       "      <td>2/17/2019</td>\n",
       "      <td>3</td>\n",
       "      <td>married</td>\n",
       "      <td>40423</td>\n",
       "      <td>both</td>\n",
       "      <td>South</td>\n",
       "      <td>HIGH</td>\n",
       "    </tr>\n",
       "  </tbody>\n",
       "</table>\n",
       "<p>5 rows × 38 columns</p>\n",
       "</div>"
      ],
      "text/plain": [
       "   Unnamed: 0 order_id  user_id  order_number  orders_day_of_week  \\\n",
       "0           0  2539329        1             1                   2   \n",
       "1           0  2539329        1             1                   2   \n",
       "2           0  2539329        1             1                   2   \n",
       "3           0  2539329        1             1                   2   \n",
       "4           0  2539329        1             1                   2   \n",
       "\n",
       "   order_hour_of_day  days_since_prior_order  product_id  add_to_cart_order  \\\n",
       "0                  8                     0.0         196                  1   \n",
       "1                  8                     0.0       14084                  2   \n",
       "2                  8                     0.0       12427                  3   \n",
       "3                  8                     0.0       26088                  4   \n",
       "4                  8                     0.0       26405                  5   \n",
       "\n",
       "   reordered  ...  gender    state  age  date_joined n_dependants  \\\n",
       "0          0  ...  Female  Alabama   31    2/17/2019            3   \n",
       "1          0  ...  Female  Alabama   31    2/17/2019            3   \n",
       "2          0  ...  Female  Alabama   31    2/17/2019            3   \n",
       "3          0  ...  Female  Alabama   31    2/17/2019            3   \n",
       "4          0  ...  Female  Alabama   31    2/17/2019            3   \n",
       "\n",
       "  marital_status income _merge Region Customer_Activity  \n",
       "0        married  40423   both  South              HIGH  \n",
       "1        married  40423   both  South              HIGH  \n",
       "2        married  40423   both  South              HIGH  \n",
       "3        married  40423   both  South              HIGH  \n",
       "4        married  40423   both  South              HIGH  \n",
       "\n",
       "[5 rows x 38 columns]"
      ]
     },
     "execution_count": 32,
     "metadata": {},
     "output_type": "execute_result"
    }
   ],
   "source": [
    "# Verify customer activity column\n",
    "df_merged.head()"
   ]
  },
  {
   "cell_type": "code",
   "execution_count": 34,
   "id": "cd0e7b07-cd78-444c-9802-70f7505f28ba",
   "metadata": {},
   "outputs": [
    {
     "data": {
      "text/plain": [
       "Customer_Activity\n",
       "HIGH    30964564\n",
       "LOW      1440295\n",
       "Name: count, dtype: int64"
      ]
     },
     "execution_count": 34,
     "metadata": {},
     "output_type": "execute_result"
    }
   ],
   "source": [
    "# count of the customer activity column\n",
    "df_merged['Customer_Activity'].value_counts(dropna = False)"
   ]
  },
  {
   "cell_type": "code",
   "execution_count": 36,
   "id": "3f907979-468e-40ce-a868-3a52989a7618",
   "metadata": {},
   "outputs": [],
   "source": [
    "# Exclude the low activity customers from the df\n",
    "df_merged_change= df_merged[df_merged['Customer_Activity'] !='LOW']"
   ]
  },
  {
   "cell_type": "code",
   "execution_count": 38,
   "id": "07f654bb-f167-4ca7-9fc7-f37a0260ce3b",
   "metadata": {},
   "outputs": [],
   "source": [
    "#export the updated df\n",
    "df_merged_change.to_pickle(os.path.join(path, '02 Data', 'Prepared Data', 'High_activity_Customers.pkl'))"
   ]
  },
  {
   "cell_type": "markdown",
   "id": "66838dbb-8c59-4abb-8d2f-3b29620e59d1",
   "metadata": {},
   "source": [
    "Create a profiling variable based on age, income, certain goods and number of dependants."
   ]
  },
  {
   "cell_type": "code",
   "execution_count": 40,
   "id": "93fcdc8c-6a98-4b4d-9a27-93c967029b33",
   "metadata": {},
   "outputs": [
    {
     "name": "stderr",
     "output_type": "stream",
     "text": [
      "C:\\Users\\beaac\\AppData\\Local\\Temp\\ipykernel_3320\\3394470572.py:2: SettingWithCopyWarning: \n",
      "A value is trying to be set on a copy of a slice from a DataFrame.\n",
      "Try using .loc[row_indexer,col_indexer] = value instead\n",
      "\n",
      "See the caveats in the documentation: https://pandas.pydata.org/pandas-docs/stable/user_guide/indexing.html#returning-a-view-versus-a-copy\n",
      "  df_merged_change.loc[df_merged_change['age']<= 25, 'Age Group']= 'Youth'\n"
     ]
    }
   ],
   "source": [
    "#Customer profiling based on age \n",
    "df_merged_change.loc[df_merged_change['age']<= 25, 'Age Group']= 'Youth'\n",
    "df_merged_change.loc[(df_merged_change ['age']> 25) & (df_merged_change['age'] <= 64), 'Age Group'] = 'Adults'\n",
    "df_merged_change.loc[df_merged_change['age'] > 64, 'Age Group'] = 'Senior'"
   ]
  },
  {
   "cell_type": "code",
   "execution_count": 43,
   "id": "90e4f523-1680-4142-b055-3b1a72c0fcd6",
   "metadata": {},
   "outputs": [],
   "source": [
    "# check Age group account\n",
    "Age_group_count = df_merged_change[ 'Age Group'].value_counts(dropna= False)"
   ]
  },
  {
   "cell_type": "code",
   "execution_count": 45,
   "id": "6d0775c2-9043-4deb-bf03-6472abd451ad",
   "metadata": {},
   "outputs": [
    {
     "data": {
      "text/plain": [
       "Age Group\n",
       "Adults    18904502\n",
       "Senior     8195544\n",
       "Youth      3864518\n",
       "Name: count, dtype: int64"
      ]
     },
     "execution_count": 45,
     "metadata": {},
     "output_type": "execute_result"
    }
   ],
   "source": [
    "Age_group_count"
   ]
  },
  {
   "cell_type": "code",
   "execution_count": 47,
   "id": "0ac0bc88-ed10-4093-a21c-83bf50283f67",
   "metadata": {},
   "outputs": [
    {
     "name": "stderr",
     "output_type": "stream",
     "text": [
      "C:\\Users\\beaac\\AppData\\Local\\Temp\\ipykernel_3320\\2229663064.py:2: SettingWithCopyWarning: \n",
      "A value is trying to be set on a copy of a slice from a DataFrame.\n",
      "Try using .loc[row_indexer,col_indexer] = value instead\n",
      "\n",
      "See the caveats in the documentation: https://pandas.pydata.org/pandas-docs/stable/user_guide/indexing.html#returning-a-view-versus-a-copy\n",
      "  df_merged_change.loc[df_merged_change['income'] <= 50000, 'Income Group'] = 'LOW'\n"
     ]
    }
   ],
   "source": [
    "# Customer profiling basd on income\n",
    "df_merged_change.loc[df_merged_change['income'] <= 50000, 'Income Group'] = 'LOW'\n",
    "df_merged_change.loc[(df_merged_change['income'] > 50000) & (df_merged_change['income'] <= 150000), 'Income Group'] = 'MIDDLE'\n",
    "df_merged_change.loc[df_merged_change['income'] > 150000, 'Income Group'] = 'HIGH'"
   ]
  },
  {
   "cell_type": "code",
   "execution_count": 49,
   "id": "eea1b212-7ea3-4de8-91b7-08c01beb3c53",
   "metadata": {},
   "outputs": [],
   "source": [
    "# Check Income count\n",
    "Income_group_count= df_merged_change ['Income Group'].value_counts(dropna = False)"
   ]
  },
  {
   "cell_type": "code",
   "execution_count": 51,
   "id": "44c8b0f9-1ef2-424e-afdb-03b2869b16d5",
   "metadata": {},
   "outputs": [
    {
     "data": {
      "text/plain": [
       "Income Group\n",
       "MIDDLE    23707476\n",
       "HIGH       3894534\n",
       "LOW        3362554\n",
       "Name: count, dtype: int64"
      ]
     },
     "execution_count": 51,
     "metadata": {},
     "output_type": "execute_result"
    }
   ],
   "source": [
    "Income_group_count"
   ]
  },
  {
   "cell_type": "code",
   "execution_count": 55,
   "id": "36cfea4a-0e55-41c4-b8c8-4038a54b9832",
   "metadata": {},
   "outputs": [
    {
     "data": {
      "image/png": "[encoded data removed]",
      "text/plain": [
       "<Figure size 640x480 with 1 Axes>"
      ]
     },
     "metadata": {},
     "output_type": "display_data"
    }
   ],
   "source": [
    "# Visualize a bar chart \n",
    "IncomeGroup_BarChart = Income_group_count.plot.bar()  \n",
    "plt.title('Distribution of Income Groups')\n",
    "# Hide the y-label\n",
    "plt.xlabel('')\n",
    "plt.ylabel('Count')\n",
    "plt.show()"
   ]
  },
  {
   "cell_type": "code",
   "execution_count": 57,
   "id": "3a6bf13e-c4b3-4bc6-81b4-ac6ddf07aa4c",
   "metadata": {},
   "outputs": [],
   "source": [
    "# Export the bar chart\n",
    "IncomeGroup_BarChart.figure.savefig(os.path.join(path, '04 Analysis','Visualizations', 'IncomeGroup_BarChart.png'))"
   ]
  },
  {
   "cell_type": "code",
   "execution_count": 59,
   "id": "915565f0-abf8-4431-88c5-2ed33bc66537",
   "metadata": {},
   "outputs": [
    {
     "data": {
      "text/plain": [
       "Index(['Unnamed: 0', 'order_id', 'user_id', 'order_number',\n",
       "       'orders_day_of_week', 'order_hour_of_day', 'days_since_prior_order',\n",
       "       'product_id', 'add_to_cart_order', 'reordered', 'product_name',\n",
       "       'aisle_id', 'department_id', 'prices', 'match', 'prices_range_loc',\n",
       "       'price_range_loc', 'busiest_day', 'busiest_days',\n",
       "       'busiest_period_of_day', 'max_order', 'loyalty_flag',\n",
       "       'avg_product_price', 'spending_flag', 'median_days_between_orders',\n",
       "       'order_frequency_flag', 'first_name', 'surname', 'gender', 'state',\n",
       "       'age', 'date_joined', 'n_dependants', 'marital_status', 'income',\n",
       "       '_merge', 'Region', 'Customer_Activity', 'Age Group', 'Income Group'],\n",
       "      dtype='object')"
      ]
     },
     "execution_count": 59,
     "metadata": {},
     "output_type": "execute_result"
    }
   ],
   "source": [
    "df_merged_change.columns"
   ]
  },
  {
   "cell_type": "code",
   "execution_count": 61,
   "id": "9d3bc729-7d18-4333-9759-93919ea53e05",
   "metadata": {},
   "outputs": [
    {
     "name": "stderr",
     "output_type": "stream",
     "text": [
      "C:\\Users\\beaac\\AppData\\Local\\Temp\\ipykernel_3320\\2610378552.py:2: SettingWithCopyWarning: \n",
      "A value is trying to be set on a copy of a slice from a DataFrame.\n",
      "Try using .loc[row_indexer,col_indexer] = value instead\n",
      "\n",
      "See the caveats in the documentation: https://pandas.pydata.org/pandas-docs/stable/user_guide/indexing.html#returning-a-view-versus-a-copy\n",
      "  df_merged_change.loc[df_merged_change['n_dependants'] == 0, 'dependents_flag'] = 'No Dependents'\n"
     ]
    }
   ],
   "source": [
    "# Customer profiling based on dependents\n",
    "df_merged_change.loc[df_merged_change['n_dependants'] == 0, 'dependents_flag'] = 'No Dependents'\n",
    "df_merged_change.loc[df_merged_change['n_dependants'] >= 1, 'dependents_flag'] = 'Has Dependents'"
   ]
  },
  {
   "cell_type": "code",
   "execution_count": 63,
   "id": "ae833f86-d282-4bfa-87c3-c0ba4f34df14",
   "metadata": {},
   "outputs": [],
   "source": [
    "# check dependents count\n",
    "n_dependents_count= df_merged_change ['dependents_flag']. value_counts(dropna = False)"
   ]
  },
  {
   "cell_type": "code",
   "execution_count": 65,
   "id": "5409f0c1-5a10-464f-bfb6-7f0f497db6ee",
   "metadata": {},
   "outputs": [
    {
     "data": {
      "text/plain": [
       "dependents_flag\n",
       "Has Dependents    23224883\n",
       "No Dependents      7739681\n",
       "Name: count, dtype: int64"
      ]
     },
     "execution_count": 65,
     "metadata": {},
     "output_type": "execute_result"
    }
   ],
   "source": [
    "n_dependents_count"
   ]
  },
  {
   "cell_type": "code",
   "execution_count": 69,
   "id": "dabc0a68-3846-498b-9413-9dbef5816c43",
   "metadata": {},
   "outputs": [
    {
     "data": {
      "image/png": "[encoded data removed]",
      "text/plain": [
       "<Figure size 640x480 with 1 Axes>"
      ]
     },
     "metadata": {},
     "output_type": "display_data"
    }
   ],
   "source": [
    "# Visualize a pie chart\n",
    "DependentGroup_PieChart = n_dependents_count.plot.pie(autopct='%1.1f%%', labels= ['Have dependents', 'No dependents'], startangle=90, colors=['#FFF1C9','#F7B7A3'])\n",
    "# Hide the y-label\n",
    "plt.ylabel('')  \n",
    "plt.title('Proportion of Dependents')\n",
    "plt.show()"
   ]
  },
  {
   "cell_type": "code",
   "execution_count": 71,
   "id": "ff409ac4-1e08-4539-85d6-13291adc6bf6",
   "metadata": {},
   "outputs": [],
   "source": [
    "# Export the pie chart\n",
    "DependentGroup_PieChart.figure.savefig(os.path.join(path, '04 Analysis','Visualizations', 'DependentGroup_PieChart.png'))"
   ]
  },
  {
   "cell_type": "markdown",
   "id": "d8828e38-1b9f-4524-b9aa-940bbb406e56",
   "metadata": {},
   "source": [
    "Using crosstab on spending flag and Age Group\n"
   ]
  },
  {
   "cell_type": "code",
   "execution_count": 74,
   "id": "a0c9165c-f5ba-45a3-b25d-9f320203b542",
   "metadata": {},
   "outputs": [],
   "source": [
    "Crosstab_SpenderAgeGroup = pd.crosstab(df_merged_change['spending_flag'], df_merged_change['Age Group'],dropna = False)"
   ]
  },
  {
   "cell_type": "code",
   "execution_count": 75,
   "id": "6c510b44-9a23-4009-967d-5b651a1d81e3",
   "metadata": {},
   "outputs": [
    {
     "data": {
      "text/html": [
       "<div>\n",
       "<style scoped>\n",
       "    .dataframe tbody tr th:only-of-type {\n",
       "        vertical-align: middle;\n",
       "    }\n",
       "\n",
       "    .dataframe tbody tr th {\n",
       "        vertical-align: top;\n",
       "    }\n",
       "\n",
       "    .dataframe thead th {\n",
       "        text-align: right;\n",
       "    }\n",
       "</style>\n",
       "<table border=\"1\" class=\"dataframe\">\n",
       "  <thead>\n",
       "    <tr style=\"text-align: right;\">\n",
       "      <th>Age Group</th>\n",
       "      <th>Adults</th>\n",
       "      <th>Senior</th>\n",
       "      <th>Youth</th>\n",
       "    </tr>\n",
       "    <tr>\n",
       "      <th>spending_flag</th>\n",
       "      <th></th>\n",
       "      <th></th>\n",
       "      <th></th>\n",
       "    </tr>\n",
       "  </thead>\n",
       "  <tbody>\n",
       "    <tr>\n",
       "      <th>High spender</th>\n",
       "      <td>372537</td>\n",
       "      <td>156886</td>\n",
       "      <td>74002</td>\n",
       "    </tr>\n",
       "    <tr>\n",
       "      <th>Low spender</th>\n",
       "      <td>18531965</td>\n",
       "      <td>8038658</td>\n",
       "      <td>3790516</td>\n",
       "    </tr>\n",
       "  </tbody>\n",
       "</table>\n",
       "</div>"
      ],
      "text/plain": [
       "Age Group        Adults   Senior    Youth\n",
       "spending_flag                            \n",
       "High spender     372537   156886    74002\n",
       "Low spender    18531965  8038658  3790516"
      ]
     },
     "execution_count": 75,
     "metadata": {},
     "output_type": "execute_result"
    }
   ],
   "source": [
    "Crosstab_SpenderAgeGroup"
   ]
  },
  {
   "cell_type": "code",
   "execution_count": 78,
   "id": "7119d7ae-a2d1-4a4c-b09b-46f237663af0",
   "metadata": {},
   "outputs": [
    {
     "data": {
      "text/plain": [
       "(array([0, 1]), [Text(0, 0, 'High spender'), Text(1, 0, 'Low spender')])"
      ]
     },
     "execution_count": 78,
     "metadata": {},
     "output_type": "execute_result"
    },
    {
     "data": {
      "image/png": "[encoded data removed]",
      "text/plain": [
       "<Figure size 640x480 with 1 Axes>"
      ]
     },
     "metadata": {},
     "output_type": "display_data"
    }
   ],
   "source": [
    "#Visulaize a bar chart for the crosstab betwwen spending and age group\n",
    "SpenderAgeGroup_BarChart = Crosstab_SpenderAgeGroup.plot.bar()\n",
    "plt.title('Spending by Age Group')\n",
    "plt.xlabel('')\n",
    "plt.ylabel('count')\n",
    "plt.xticks(rotation=0)"
   ]
  },
  {
   "cell_type": "code",
   "execution_count": 80,
   "id": "41f6aa67-f615-4cee-8bab-7beaac5b0fad",
   "metadata": {},
   "outputs": [],
   "source": [
    "# Export the Bar Chart\n",
    "SpenderAgeGroup_BarChart.figure.savefig(os.path.join(path, '04 Analysis','Visualizations', 'SpenderAgeGroup_BarChart.png'))"
   ]
  },
  {
   "cell_type": "markdown",
   "id": "68eea6b8-02ae-431d-ba43-d7edbcf2e7af",
   "metadata": {},
   "source": [
    "Using crosstab on Loyalty and Age Group"
   ]
  },
  {
   "cell_type": "code",
   "execution_count": 83,
   "id": "a4460613-3134-4ee0-8c03-811c2abb7232",
   "metadata": {},
   "outputs": [],
   "source": [
    "Crosstab_LoyaltyAgeGroup = pd.crosstab(df_merged_change['loyalty_flag'], df_merged_change['Age Group'],dropna = False)"
   ]
  },
  {
   "cell_type": "code",
   "execution_count": 84,
   "id": "4550a0b2-f01b-4681-89fe-0a1b39b10012",
   "metadata": {},
   "outputs": [
    {
     "data": {
      "text/html": [
       "<div>\n",
       "<style scoped>\n",
       "    .dataframe tbody tr th:only-of-type {\n",
       "        vertical-align: middle;\n",
       "    }\n",
       "\n",
       "    .dataframe tbody tr th {\n",
       "        vertical-align: top;\n",
       "    }\n",
       "\n",
       "    .dataframe thead th {\n",
       "        text-align: right;\n",
       "    }\n",
       "</style>\n",
       "<table border=\"1\" class=\"dataframe\">\n",
       "  <thead>\n",
       "    <tr style=\"text-align: right;\">\n",
       "      <th>Age Group</th>\n",
       "      <th>Adults</th>\n",
       "      <th>Senior</th>\n",
       "      <th>Youth</th>\n",
       "    </tr>\n",
       "    <tr>\n",
       "      <th>loyalty_flag</th>\n",
       "      <th></th>\n",
       "      <th></th>\n",
       "      <th></th>\n",
       "    </tr>\n",
       "  </thead>\n",
       "  <tbody>\n",
       "    <tr>\n",
       "      <th>Loyal customer</th>\n",
       "      <td>6279684</td>\n",
       "      <td>2723958</td>\n",
       "      <td>1280451</td>\n",
       "    </tr>\n",
       "    <tr>\n",
       "      <th>New customer</th>\n",
       "      <td>2927178</td>\n",
       "      <td>1276659</td>\n",
       "      <td>599858</td>\n",
       "    </tr>\n",
       "    <tr>\n",
       "      <th>Regular customer</th>\n",
       "      <td>9697640</td>\n",
       "      <td>4194927</td>\n",
       "      <td>1984209</td>\n",
       "    </tr>\n",
       "  </tbody>\n",
       "</table>\n",
       "</div>"
      ],
      "text/plain": [
       "Age Group          Adults   Senior    Youth\n",
       "loyalty_flag                               \n",
       "Loyal customer    6279684  2723958  1280451\n",
       "New customer      2927178  1276659   599858\n",
       "Regular customer  9697640  4194927  1984209"
      ]
     },
     "execution_count": 84,
     "metadata": {},
     "output_type": "execute_result"
    }
   ],
   "source": [
    "Crosstab_LoyaltyAgeGroup"
   ]
  },
  {
   "cell_type": "code",
   "execution_count": 85,
   "id": "d37a03e0-98ea-4ac4-a60d-aafa5b637082",
   "metadata": {},
   "outputs": [
    {
     "data": {
      "text/plain": [
       "(array([0, 1, 2]),\n",
       " [Text(0, 0, 'Loyal customer'),\n",
       "  Text(1, 0, 'New customer'),\n",
       "  Text(2, 0, 'Regular customer')])"
      ]
     },
     "execution_count": 85,
     "metadata": {},
     "output_type": "execute_result"
    },
    {
     "data": {
      "image/png": "[encoded data removed]",
      "text/plain": [
       "<Figure size 640x480 with 1 Axes>"
      ]
     },
     "metadata": {},
     "output_type": "display_data"
    }
   ],
   "source": [
    "# Visualize a bar chart for the crosstab between loyalty_flag and Age Group\n",
    "LoyaltyAgeGroup_BarChart = Crosstab_LoyaltyAgeGroup.plot.bar()\n",
    "plt.title('Loyalty by Age Group')\n",
    "plt.xlabel('')\n",
    "plt.ylabel('Count')\n",
    "plt.xticks(rotation=0)"
   ]
  },
  {
   "cell_type": "code",
   "execution_count": 89,
   "id": "1fda96b9-b20f-49a1-9e18-d0ad92c83f4f",
   "metadata": {},
   "outputs": [],
   "source": [
    "# Export the Bar Chart\n",
    "LoyaltyAgeGroup_BarChart.figure.savefig(os.path.join(path, '04 Analysis','Visualizations', 'LoyaltyAgeGroup_BarChart.png'))"
   ]
  },
  {
   "cell_type": "markdown",
   "id": "cd91ed7b-ea42-4e60-a81d-5931e7771c16",
   "metadata": {},
   "source": [
    "Using crosstab on Department_id and Age Group"
   ]
  },
  {
   "cell_type": "code",
   "execution_count": 92,
   "id": "38e72b17-7f49-4379-9880-56ce7b480b25",
   "metadata": {},
   "outputs": [
    {
     "name": "stderr",
     "output_type": "stream",
     "text": [
      "C:\\Users\\beaac\\AppData\\Local\\Temp\\ipykernel_3320\\3167997791.py:52: SettingWithCopyWarning: \n",
      "A value is trying to be set on a copy of a slice from a DataFrame.\n",
      "Try using .loc[row_indexer,col_indexer] = value instead\n",
      "\n",
      "See the caveats in the documentation: https://pandas.pydata.org/pandas-docs/stable/user_guide/indexing.html#returning-a-view-versus-a-copy\n",
      "  df_merged_change['department_name'] = department_name\n"
     ]
    }
   ],
   "source": [
    "#Adding new column with names of the department for better readability\n",
    "\n",
    "department_name = []\n",
    "\n",
    "for value in df_merged_change['department_id']:\n",
    "    if value == 1:\n",
    "        department_name.append('frozen')\n",
    "    elif value == 2:\n",
    "        department_name.append('other')\n",
    "    elif value == 3:\n",
    "        department_name.append('bakery')\n",
    "    elif value == 4:\n",
    "        department_name.append('produce')\n",
    "    elif value == 5:\n",
    "        department_name.append('alcohol')\n",
    "    elif value == 6:\n",
    "        department_name.append('international')\n",
    "    elif value == 7:\n",
    "        department_name.append('beverages')\n",
    "    elif value == 8:\n",
    "        department_name.append('pets')\n",
    "    elif value == 9:\n",
    "        department_name.append('dry goods pasta')\n",
    "    elif value == 10:\n",
    "        department_name.append('bulk')\n",
    "    elif value == 11:\n",
    "        department_name.append('personal care')\n",
    "    elif value == 12:\n",
    "        department_name.append('meat seafood')\n",
    "    elif value == 13:\n",
    "        department_name.append('pantry')\n",
    "    elif value == 14:\n",
    "        department_name.append('breakfast')\n",
    "    elif value == 15:\n",
    "        department_name.append('canned goods')\n",
    "    elif value == 16:\n",
    "        department_name.append('dairy eggs')\n",
    "    elif value == 17:\n",
    "        department_name.append('household')\n",
    "    elif value == 18:\n",
    "        department_name.append('babies')\n",
    "    elif value == 19:\n",
    "        department_name.append('snacks')\n",
    "    elif value == 20:\n",
    "        department_name.append('deli')\n",
    "    elif value == 21:\n",
    "        department_name.append('missing')\n",
    "    else:\n",
    "        department_name.append('Not enough information')\n",
    "\n",
    "\n",
    "df_merged_change['department_name'] = department_name"
   ]
  },
  {
   "cell_type": "code",
   "execution_count": 93,
   "id": "50d4cc41-ded9-45c4-81ff-a81d509eba4a",
   "metadata": {},
   "outputs": [],
   "source": [
    "Crosstab_DepartmentAgeGroup = pd.crosstab(df_merged_change['department_name'], df_merged_change['Age Group'],dropna = False)"
   ]
  },
  {
   "cell_type": "code",
   "execution_count": 94,
   "id": "47f90364-8f9a-4feb-9473-9cee7c3dd221",
   "metadata": {},
   "outputs": [
    {
     "data": {
      "text/html": [
       "<div>\n",
       "<style scoped>\n",
       "    .dataframe tbody tr th:only-of-type {\n",
       "        vertical-align: middle;\n",
       "    }\n",
       "\n",
       "    .dataframe tbody tr th {\n",
       "        vertical-align: top;\n",
       "    }\n",
       "\n",
       "    .dataframe thead th {\n",
       "        text-align: right;\n",
       "    }\n",
       "</style>\n",
       "<table border=\"1\" class=\"dataframe\">\n",
       "  <thead>\n",
       "    <tr style=\"text-align: right;\">\n",
       "      <th>Age Group</th>\n",
       "      <th>Adults</th>\n",
       "      <th>Senior</th>\n",
       "      <th>Youth</th>\n",
       "    </tr>\n",
       "    <tr>\n",
       "      <th>department_name</th>\n",
       "      <th></th>\n",
       "      <th></th>\n",
       "      <th></th>\n",
       "    </tr>\n",
       "  </thead>\n",
       "  <tbody>\n",
       "    <tr>\n",
       "      <th>alcohol</th>\n",
       "      <td>88746</td>\n",
       "      <td>36693</td>\n",
       "      <td>19188</td>\n",
       "    </tr>\n",
       "    <tr>\n",
       "      <th>babies</th>\n",
       "      <td>252954</td>\n",
       "      <td>106204</td>\n",
       "      <td>51234</td>\n",
       "    </tr>\n",
       "    <tr>\n",
       "      <th>bakery</th>\n",
       "      <td>684958</td>\n",
       "      <td>295997</td>\n",
       "      <td>139873</td>\n",
       "    </tr>\n",
       "    <tr>\n",
       "      <th>beverages</th>\n",
       "      <td>1569538</td>\n",
       "      <td>684020</td>\n",
       "      <td>318343</td>\n",
       "    </tr>\n",
       "    <tr>\n",
       "      <th>breakfast</th>\n",
       "      <td>410077</td>\n",
       "      <td>175296</td>\n",
       "      <td>85477</td>\n",
       "    </tr>\n",
       "    <tr>\n",
       "      <th>bulk</th>\n",
       "      <td>20200</td>\n",
       "      <td>8945</td>\n",
       "      <td>4306</td>\n",
       "    </tr>\n",
       "    <tr>\n",
       "      <th>canned goods</th>\n",
       "      <td>618253</td>\n",
       "      <td>267509</td>\n",
       "      <td>126312</td>\n",
       "    </tr>\n",
       "    <tr>\n",
       "      <th>dairy eggs</th>\n",
       "      <td>3161617</td>\n",
       "      <td>1368072</td>\n",
       "      <td>647493</td>\n",
       "    </tr>\n",
       "    <tr>\n",
       "      <th>deli</th>\n",
       "      <td>614080</td>\n",
       "      <td>265199</td>\n",
       "      <td>124555</td>\n",
       "    </tr>\n",
       "    <tr>\n",
       "      <th>dry goods pasta</th>\n",
       "      <td>500622</td>\n",
       "      <td>217316</td>\n",
       "      <td>104198</td>\n",
       "    </tr>\n",
       "    <tr>\n",
       "      <th>frozen</th>\n",
       "      <td>1291591</td>\n",
       "      <td>564250</td>\n",
       "      <td>265890</td>\n",
       "    </tr>\n",
       "    <tr>\n",
       "      <th>household</th>\n",
       "      <td>426413</td>\n",
       "      <td>186630</td>\n",
       "      <td>86814</td>\n",
       "    </tr>\n",
       "    <tr>\n",
       "      <th>international</th>\n",
       "      <td>156418</td>\n",
       "      <td>67199</td>\n",
       "      <td>32374</td>\n",
       "    </tr>\n",
       "    <tr>\n",
       "      <th>meat seafood</th>\n",
       "      <td>409051</td>\n",
       "      <td>181150</td>\n",
       "      <td>84580</td>\n",
       "    </tr>\n",
       "    <tr>\n",
       "      <th>missing</th>\n",
       "      <td>39470</td>\n",
       "      <td>16915</td>\n",
       "      <td>8383</td>\n",
       "    </tr>\n",
       "    <tr>\n",
       "      <th>other</th>\n",
       "      <td>21009</td>\n",
       "      <td>8946</td>\n",
       "      <td>4456</td>\n",
       "    </tr>\n",
       "    <tr>\n",
       "      <th>pantry</th>\n",
       "      <td>1088236</td>\n",
       "      <td>472383</td>\n",
       "      <td>222086</td>\n",
       "    </tr>\n",
       "    <tr>\n",
       "      <th>personal care</th>\n",
       "      <td>260258</td>\n",
       "      <td>111052</td>\n",
       "      <td>52996</td>\n",
       "    </tr>\n",
       "    <tr>\n",
       "      <th>pets</th>\n",
       "      <td>55327</td>\n",
       "      <td>25115</td>\n",
       "      <td>12618</td>\n",
       "    </tr>\n",
       "    <tr>\n",
       "      <th>produce</th>\n",
       "      <td>5543443</td>\n",
       "      <td>2408104</td>\n",
       "      <td>1127726</td>\n",
       "    </tr>\n",
       "    <tr>\n",
       "      <th>snacks</th>\n",
       "      <td>1692241</td>\n",
       "      <td>728549</td>\n",
       "      <td>345616</td>\n",
       "    </tr>\n",
       "  </tbody>\n",
       "</table>\n",
       "</div>"
      ],
      "text/plain": [
       "Age Group         Adults   Senior    Youth\n",
       "department_name                           \n",
       "alcohol            88746    36693    19188\n",
       "babies            252954   106204    51234\n",
       "bakery            684958   295997   139873\n",
       "beverages        1569538   684020   318343\n",
       "breakfast         410077   175296    85477\n",
       "bulk               20200     8945     4306\n",
       "canned goods      618253   267509   126312\n",
       "dairy eggs       3161617  1368072   647493\n",
       "deli              614080   265199   124555\n",
       "dry goods pasta   500622   217316   104198\n",
       "frozen           1291591   564250   265890\n",
       "household         426413   186630    86814\n",
       "international     156418    67199    32374\n",
       "meat seafood      409051   181150    84580\n",
       "missing            39470    16915     8383\n",
       "other              21009     8946     4456\n",
       "pantry           1088236   472383   222086\n",
       "personal care     260258   111052    52996\n",
       "pets               55327    25115    12618\n",
       "produce          5543443  2408104  1127726\n",
       "snacks           1692241   728549   345616"
      ]
     },
     "execution_count": 94,
     "metadata": {},
     "output_type": "execute_result"
    }
   ],
   "source": [
    "Crosstab_DepartmentAgeGroup"
   ]
  },
  {
   "cell_type": "code",
   "execution_count": 95,
   "id": "118afcbf-148f-4526-828c-7a1592e4e034",
   "metadata": {},
   "outputs": [
    {
     "data": {
      "image/png": "[encoded data removed]",
      "text/plain": [
       "<Figure size 1200x600 with 1 Axes>"
      ]
     },
     "metadata": {},
     "output_type": "display_data"
    }
   ],
   "source": [
    "\n",
    "# Set figure size\n",
    "fig, ax = plt.subplots(figsize=(12, 6))\n",
    "\n",
    "# Plot the stacked bar chart\n",
    "Crosstab_DepartmentAgeGroup.plot(kind=\"bar\", stacked=True, colormap=\"viridis\", ax=ax)\n",
    "\n",
    "# Formatting\n",
    "ax.set_title(\"Purchases by Age Group Across Departments\")\n",
    "ax.set_xlabel(\"Department\")\n",
    "ax.set_ylabel(\"Number of Purchases\")\n",
    "ax.legend(title=\"Age Group\")\n",
    "\n",
    "plt.xticks(rotation=45)\n",
    "plt.grid(axis=\"y\", linestyle=\"--\", alpha=0.6)\n",
    "\n",
    "# Show plot\n",
    "plt.show()\n"
   ]
  },
  {
   "cell_type": "markdown",
   "id": "5079e23a-5b93-4e3b-90c2-b472b4e328ad",
   "metadata": {},
   "source": [
    "Produce is the most purchased category across all age groups, with over 5.5 million purchases from adults alone.\n",
    "\n",
    "Dairy & Eggs is also widely purchased, indicating it’s a staple for consumers.\n",
    "\n",
    "Snacks & Beverages have strong engagement from youth, showing preferences for quick and accessible food items."
   ]
  },
  {
   "cell_type": "code",
   "execution_count": 101,
   "id": "edc782d3-1e1f-467d-acfe-2f8513a826f5",
   "metadata": {},
   "outputs": [],
   "source": [
    "fig.savefig(os.path.join(path, \"04 Analysis\", \"Visualizations\", \"Stacked_Bar_Chart.png\"))"
   ]
  },
  {
   "cell_type": "markdown",
   "id": "ed688744-a1fb-4c33-9ef6-6bc3245afe67",
   "metadata": {},
   "source": [
    "Use Aggregation functions on customer profile level for usage freqquency and expenditure"
   ]
  },
  {
   "cell_type": "code",
   "execution_count": 104,
   "id": "80419776-a6e6-4357-b3b7-a9baf7da0a21",
   "metadata": {},
   "outputs": [],
   "source": [
    "# Using a group by statement in order to aggregate data for the customer population \n",
    "\n",
    "Customer_profile_group= df_merged_change . groupby('Income Group').agg({'prices': ['max', 'min','mean']})"
   ]
  },
  {
   "cell_type": "code",
   "execution_count": 105,
   "id": "898a4acf-1d65-47d5-af4e-f7274f4ba8c7",
   "metadata": {},
   "outputs": [
    {
     "data": {
      "text/html": [
       "<div>\n",
       "<style scoped>\n",
       "    .dataframe tbody tr th:only-of-type {\n",
       "        vertical-align: middle;\n",
       "    }\n",
       "\n",
       "    .dataframe tbody tr th {\n",
       "        vertical-align: top;\n",
       "    }\n",
       "\n",
       "    .dataframe thead tr th {\n",
       "        text-align: left;\n",
       "    }\n",
       "\n",
       "    .dataframe thead tr:last-of-type th {\n",
       "        text-align: right;\n",
       "    }\n",
       "</style>\n",
       "<table border=\"1\" class=\"dataframe\">\n",
       "  <thead>\n",
       "    <tr>\n",
       "      <th></th>\n",
       "      <th colspan=\"3\" halign=\"left\">prices</th>\n",
       "    </tr>\n",
       "    <tr>\n",
       "      <th></th>\n",
       "      <th>max</th>\n",
       "      <th>min</th>\n",
       "      <th>mean</th>\n",
       "    </tr>\n",
       "    <tr>\n",
       "      <th>Income Group</th>\n",
       "      <th></th>\n",
       "      <th></th>\n",
       "      <th></th>\n",
       "    </tr>\n",
       "  </thead>\n",
       "  <tbody>\n",
       "    <tr>\n",
       "      <th>HIGH</th>\n",
       "      <td>25.0</td>\n",
       "      <td>1.0</td>\n",
       "      <td>7.940855</td>\n",
       "    </tr>\n",
       "    <tr>\n",
       "      <th>LOW</th>\n",
       "      <td>25.0</td>\n",
       "      <td>1.0</td>\n",
       "      <td>6.707347</td>\n",
       "    </tr>\n",
       "    <tr>\n",
       "      <th>MIDDLE</th>\n",
       "      <td>25.0</td>\n",
       "      <td>1.0</td>\n",
       "      <td>7.919577</td>\n",
       "    </tr>\n",
       "  </tbody>\n",
       "</table>\n",
       "</div>"
      ],
      "text/plain": [
       "             prices               \n",
       "                max  min      mean\n",
       "Income Group                      \n",
       "HIGH           25.0  1.0  7.940855\n",
       "LOW            25.0  1.0  6.707347\n",
       "MIDDLE         25.0  1.0  7.919577"
      ]
     },
     "execution_count": 105,
     "metadata": {},
     "output_type": "execute_result"
    }
   ],
   "source": [
    "Customer_profile_group"
   ]
  },
  {
   "cell_type": "code",
   "execution_count": 108,
   "id": "fd772913-18ec-44b0-98b9-d251e732d527",
   "metadata": {},
   "outputs": [],
   "source": [
    "# Using a group by statement in order to aggregate data for the customer population for frequency \n",
    "\n",
    "Customer_profile_group1 = df_merged_change . groupby('Income Group').agg({'order_number': ['max', 'min','mean'], 'days_since_prior_order': ['max','min','mean']})"
   ]
  },
  {
   "cell_type": "code",
   "execution_count": 110,
   "id": "e027dba5-92cc-4e48-bdb3-30f25626a347",
   "metadata": {},
   "outputs": [
    {
     "data": {
      "text/html": [
       "<div>\n",
       "<style scoped>\n",
       "    .dataframe tbody tr th:only-of-type {\n",
       "        vertical-align: middle;\n",
       "    }\n",
       "\n",
       "    .dataframe tbody tr th {\n",
       "        vertical-align: top;\n",
       "    }\n",
       "\n",
       "    .dataframe thead tr th {\n",
       "        text-align: left;\n",
       "    }\n",
       "\n",
       "    .dataframe thead tr:last-of-type th {\n",
       "        text-align: right;\n",
       "    }\n",
       "</style>\n",
       "<table border=\"1\" class=\"dataframe\">\n",
       "  <thead>\n",
       "    <tr>\n",
       "      <th></th>\n",
       "      <th colspan=\"3\" halign=\"left\">order_number</th>\n",
       "      <th colspan=\"3\" halign=\"left\">days_since_prior_order</th>\n",
       "    </tr>\n",
       "    <tr>\n",
       "      <th></th>\n",
       "      <th>max</th>\n",
       "      <th>min</th>\n",
       "      <th>mean</th>\n",
       "      <th>max</th>\n",
       "      <th>min</th>\n",
       "      <th>mean</th>\n",
       "    </tr>\n",
       "    <tr>\n",
       "      <th>Income Group</th>\n",
       "      <th></th>\n",
       "      <th></th>\n",
       "      <th></th>\n",
       "      <th></th>\n",
       "      <th></th>\n",
       "      <th></th>\n",
       "    </tr>\n",
       "  </thead>\n",
       "  <tbody>\n",
       "    <tr>\n",
       "      <th>HIGH</th>\n",
       "      <td>99</td>\n",
       "      <td>1</td>\n",
       "      <td>18.078212</td>\n",
       "      <td>30.0</td>\n",
       "      <td>0.0</td>\n",
       "      <td>10.123102</td>\n",
       "    </tr>\n",
       "    <tr>\n",
       "      <th>LOW</th>\n",
       "      <td>99</td>\n",
       "      <td>1</td>\n",
       "      <td>16.835516</td>\n",
       "      <td>30.0</td>\n",
       "      <td>0.0</td>\n",
       "      <td>10.528791</td>\n",
       "    </tr>\n",
       "    <tr>\n",
       "      <th>MIDDLE</th>\n",
       "      <td>99</td>\n",
       "      <td>1</td>\n",
       "      <td>17.935687</td>\n",
       "      <td>30.0</td>\n",
       "      <td>0.0</td>\n",
       "      <td>10.205594</td>\n",
       "    </tr>\n",
       "  </tbody>\n",
       "</table>\n",
       "</div>"
      ],
      "text/plain": [
       "             order_number                days_since_prior_order       \\\n",
       "                      max min       mean                    max  min   \n",
       "Income Group                                                           \n",
       "HIGH                   99   1  18.078212                   30.0  0.0   \n",
       "LOW                    99   1  16.835516                   30.0  0.0   \n",
       "MIDDLE                 99   1  17.935687                   30.0  0.0   \n",
       "\n",
       "                         \n",
       "                   mean  \n",
       "Income Group             \n",
       "HIGH          10.123102  \n",
       "LOW           10.528791  \n",
       "MIDDLE        10.205594  "
      ]
     },
     "execution_count": 110,
     "metadata": {},
     "output_type": "execute_result"
    }
   ],
   "source": [
    "Customer_profile_group1 "
   ]
  },
  {
   "cell_type": "markdown",
   "id": "e3954450-c3b6-431b-b3d3-4ac9274f39a7",
   "metadata": {},
   "source": [
    "Compare your customer profiles with Regions and Departments"
   ]
  },
  {
   "cell_type": "code",
   "execution_count": 113,
   "id": "99080987-f6ba-482a-b623-3cbabf929a9c",
   "metadata": {},
   "outputs": [],
   "source": [
    "#Using crosstab function on Region and Departments\n",
    "Cross_region_departments= pd.crosstab(df_merged_change['Region'], df_merged_change['department_name'], dropna= False)"
   ]
  },
  {
   "cell_type": "code",
   "execution_count": 114,
   "id": "83846f8e-dc19-4f4e-ab7d-05723a225f4a",
   "metadata": {},
   "outputs": [
    {
     "data": {
      "text/html": [
       "<div>\n",
       "<style scoped>\n",
       "    .dataframe tbody tr th:only-of-type {\n",
       "        vertical-align: middle;\n",
       "    }\n",
       "\n",
       "    .dataframe tbody tr th {\n",
       "        vertical-align: top;\n",
       "    }\n",
       "\n",
       "    .dataframe thead th {\n",
       "        text-align: right;\n",
       "    }\n",
       "</style>\n",
       "<table border=\"1\" class=\"dataframe\">\n",
       "  <thead>\n",
       "    <tr style=\"text-align: right;\">\n",
       "      <th>department_name</th>\n",
       "      <th>alcohol</th>\n",
       "      <th>babies</th>\n",
       "      <th>bakery</th>\n",
       "      <th>beverages</th>\n",
       "      <th>breakfast</th>\n",
       "      <th>bulk</th>\n",
       "      <th>canned goods</th>\n",
       "      <th>dairy eggs</th>\n",
       "      <th>deli</th>\n",
       "      <th>dry goods pasta</th>\n",
       "      <th>...</th>\n",
       "      <th>household</th>\n",
       "      <th>international</th>\n",
       "      <th>meat seafood</th>\n",
       "      <th>missing</th>\n",
       "      <th>other</th>\n",
       "      <th>pantry</th>\n",
       "      <th>personal care</th>\n",
       "      <th>pets</th>\n",
       "      <th>produce</th>\n",
       "      <th>snacks</th>\n",
       "    </tr>\n",
       "    <tr>\n",
       "      <th>Region</th>\n",
       "      <th></th>\n",
       "      <th></th>\n",
       "      <th></th>\n",
       "      <th></th>\n",
       "      <th></th>\n",
       "      <th></th>\n",
       "      <th></th>\n",
       "      <th></th>\n",
       "      <th></th>\n",
       "      <th></th>\n",
       "      <th></th>\n",
       "      <th></th>\n",
       "      <th></th>\n",
       "      <th></th>\n",
       "      <th></th>\n",
       "      <th></th>\n",
       "      <th></th>\n",
       "      <th></th>\n",
       "      <th></th>\n",
       "      <th></th>\n",
       "      <th></th>\n",
       "    </tr>\n",
       "  </thead>\n",
       "  <tbody>\n",
       "    <tr>\n",
       "      <th>Midwest</th>\n",
       "      <td>34043</td>\n",
       "      <td>95741</td>\n",
       "      <td>261753</td>\n",
       "      <td>598979</td>\n",
       "      <td>156155</td>\n",
       "      <td>7929</td>\n",
       "      <td>237459</td>\n",
       "      <td>1212490</td>\n",
       "      <td>234464</td>\n",
       "      <td>193463</td>\n",
       "      <td>...</td>\n",
       "      <td>166992</td>\n",
       "      <td>60666</td>\n",
       "      <td>158260</td>\n",
       "      <td>15563</td>\n",
       "      <td>7983</td>\n",
       "      <td>420334</td>\n",
       "      <td>100398</td>\n",
       "      <td>21358</td>\n",
       "      <td>2134115</td>\n",
       "      <td>645143</td>\n",
       "    </tr>\n",
       "    <tr>\n",
       "      <th>Northeast</th>\n",
       "      <td>25017</td>\n",
       "      <td>72712</td>\n",
       "      <td>199300</td>\n",
       "      <td>462929</td>\n",
       "      <td>117904</td>\n",
       "      <td>5599</td>\n",
       "      <td>176936</td>\n",
       "      <td>914616</td>\n",
       "      <td>178398</td>\n",
       "      <td>143817</td>\n",
       "      <td>...</td>\n",
       "      <td>124604</td>\n",
       "      <td>44678</td>\n",
       "      <td>118571</td>\n",
       "      <td>11512</td>\n",
       "      <td>6268</td>\n",
       "      <td>312731</td>\n",
       "      <td>74765</td>\n",
       "      <td>17734</td>\n",
       "      <td>1593004</td>\n",
       "      <td>493154</td>\n",
       "    </tr>\n",
       "    <tr>\n",
       "      <th>South</th>\n",
       "      <td>48813</td>\n",
       "      <td>139511</td>\n",
       "      <td>371620</td>\n",
       "      <td>859419</td>\n",
       "      <td>223172</td>\n",
       "      <td>11180</td>\n",
       "      <td>337458</td>\n",
       "      <td>1723016</td>\n",
       "      <td>333620</td>\n",
       "      <td>272813</td>\n",
       "      <td>...</td>\n",
       "      <td>230061</td>\n",
       "      <td>84649</td>\n",
       "      <td>224120</td>\n",
       "      <td>21787</td>\n",
       "      <td>11579</td>\n",
       "      <td>591754</td>\n",
       "      <td>142496</td>\n",
       "      <td>29909</td>\n",
       "      <td>3027476</td>\n",
       "      <td>916780</td>\n",
       "    </tr>\n",
       "    <tr>\n",
       "      <th>West</th>\n",
       "      <td>36754</td>\n",
       "      <td>102428</td>\n",
       "      <td>288155</td>\n",
       "      <td>650574</td>\n",
       "      <td>173619</td>\n",
       "      <td>8743</td>\n",
       "      <td>260221</td>\n",
       "      <td>1327060</td>\n",
       "      <td>257352</td>\n",
       "      <td>212043</td>\n",
       "      <td>...</td>\n",
       "      <td>178200</td>\n",
       "      <td>65998</td>\n",
       "      <td>173830</td>\n",
       "      <td>15906</td>\n",
       "      <td>8581</td>\n",
       "      <td>457886</td>\n",
       "      <td>106647</td>\n",
       "      <td>24059</td>\n",
       "      <td>2324678</td>\n",
       "      <td>711329</td>\n",
       "    </tr>\n",
       "  </tbody>\n",
       "</table>\n",
       "<p>4 rows × 21 columns</p>\n",
       "</div>"
      ],
      "text/plain": [
       "department_name  alcohol  babies  bakery  beverages  breakfast   bulk  \\\n",
       "Region                                                                  \n",
       "Midwest            34043   95741  261753     598979     156155   7929   \n",
       "Northeast          25017   72712  199300     462929     117904   5599   \n",
       "South              48813  139511  371620     859419     223172  11180   \n",
       "West               36754  102428  288155     650574     173619   8743   \n",
       "\n",
       "department_name  canned goods  dairy eggs    deli  dry goods pasta  ...  \\\n",
       "Region                                                              ...   \n",
       "Midwest                237459     1212490  234464           193463  ...   \n",
       "Northeast              176936      914616  178398           143817  ...   \n",
       "South                  337458     1723016  333620           272813  ...   \n",
       "West                   260221     1327060  257352           212043  ...   \n",
       "\n",
       "department_name  household  international  meat seafood  missing  other  \\\n",
       "Region                                                                    \n",
       "Midwest             166992          60666        158260    15563   7983   \n",
       "Northeast           124604          44678        118571    11512   6268   \n",
       "South               230061          84649        224120    21787  11579   \n",
       "West                178200          65998        173830    15906   8581   \n",
       "\n",
       "department_name  pantry  personal care   pets  produce  snacks  \n",
       "Region                                                          \n",
       "Midwest          420334         100398  21358  2134115  645143  \n",
       "Northeast        312731          74765  17734  1593004  493154  \n",
       "South            591754         142496  29909  3027476  916780  \n",
       "West             457886         106647  24059  2324678  711329  \n",
       "\n",
       "[4 rows x 21 columns]"
      ]
     },
     "execution_count": 114,
     "metadata": {},
     "output_type": "execute_result"
    }
   ],
   "source": [
    "Cross_region_departments"
   ]
  },
  {
   "cell_type": "code",
   "execution_count": 115,
   "id": "a0d5a418-a398-4b05-8bd6-3b68b047fd7e",
   "metadata": {},
   "outputs": [
    {
     "data": {
      "image/png": "[encoded data removed]",
      "text/plain": [
       "<Figure size 1200x600 with 1 Axes>"
      ]
     },
     "metadata": {},
     "output_type": "display_data"
    }
   ],
   "source": [
    "#Visualize Grouped bar chart of cross_region_departments\n",
    "\n",
    "# Set figure size\n",
    "fig, ax = plt.subplots(figsize=(12, 6))\n",
    "\n",
    "# Plot grouped bar chart\n",
    "Cross_region_departments.plot(kind=\"bar\", colormap=\"viridis\", ax=ax)\n",
    "\n",
    "# Formatting\n",
    "ax.set_title(\"Purchases by Region Across Departments\")\n",
    "ax.set_xlabel(\"Region\")\n",
    "ax.set_ylabel(\"Number of Purchases\")\n",
    "ax.legend(title=\"Department\", bbox_to_anchor=(1.05, 1), loc='upper left')\n",
    "\n",
    "plt.xticks(rotation=45)\n",
    "plt.grid(axis=\"y\", linestyle=\"--\", alpha=0.6)\n",
    "\n",
    "# Show plot\n",
    "plt.show()\n"
   ]
  },
  {
   "cell_type": "code",
   "execution_count": 119,
   "id": "ea4bb49b-7e03-4ad0-a0d6-3134afab22bd",
   "metadata": {},
   "outputs": [],
   "source": [
    "fig.savefig(os.path.join(path, \"04 Analysis\", \"Visualizations\", \"Purchases_By_Regions_Across_Departments.png\"))"
   ]
  },
  {
   "cell_type": "markdown",
   "id": "64f06c44-4080-470e-81db-09cf87f8fbf9",
   "metadata": {},
   "source": [
    "Regional Preferences:\n",
    "\n",
    "Some regions, like the Northeast and Midwest, have noticeably higher purchases in specific departments.\n",
    "\n",
    "The South and West may have different dominant categories—perhaps influenced by lifestyle or store availability.\n",
    "\n",
    "Department Trends Across Locations:\n",
    "\n",
    "Produce, dairy/eggs, and snacks appear to have significant purchases across all regions.\n",
    "\n",
    "Alcohol and bakery might show more variation depending on location."
   ]
  },
  {
   "cell_type": "markdown",
   "id": "c9fe63d2-9297-4a5f-827c-9d3fa0b58cae",
   "metadata": {},
   "source": [
    "Visualizations "
   ]
  },
  {
   "cell_type": "code",
   "execution_count": 123,
   "id": "e820b516-29ce-428e-b1bc-01b76735a9f3",
   "metadata": {},
   "outputs": [],
   "source": [
    "#Visualize orders by dy of week\n",
    "DOW_barchart= df_merged_change['orders_day_of_week'].value_counts()"
   ]
  },
  {
   "cell_type": "code",
   "execution_count": 125,
   "id": "11f9c301-cd54-4e1e-9fc1-0e0d010fe3cb",
   "metadata": {},
   "outputs": [
    {
     "data": {
      "text/plain": [
       "orders_day_of_week\n",
       "0    5908610\n",
       "1    5411686\n",
       "6    4291304\n",
       "5    4033729\n",
       "2    4024706\n",
       "3    3669535\n",
       "4    3624994\n",
       "Name: count, dtype: int64"
      ]
     },
     "execution_count": 125,
     "metadata": {},
     "output_type": "execute_result"
    }
   ],
   "source": [
    "DOW_barchart"
   ]
  },
  {
   "cell_type": "code",
   "execution_count": 127,
   "id": "e7018bef-086a-4ef0-a1c2-3d7236dc7643",
   "metadata": {},
   "outputs": [
    {
     "data": {
      "text/plain": [
       "Text(0.5, 0, '')"
      ]
     },
     "execution_count": 127,
     "metadata": {},
     "output_type": "execute_result"
    },
    {
     "data": {
      "image/png": "[encoded data removed]",
      "text/plain": [
       "<Figure size 640x480 with 1 Axes>"
      ]
     },
     "metadata": {},
     "output_type": "display_data"
    }
   ],
   "source": [
    "# Visualize a Bar Chart of orders by Day of Week\n",
    "DOW_barchart= df_merged_change['orders_day_of_week'].value_counts().sort_index().plot.bar()\n",
    "OrdersBarChart_DayOfWeek = DOW_barchart.set_title('Orders based on Day of Week')\n",
    "DOW_barchart.set_xticklabels([ 'Saturday', 'Sunday', 'Monday', 'Tuesday', 'Wednesday', 'Thursday', 'Friday'], rotation=0)\n",
    "DOW_barchart.set_xlabel(\"\")"
   ]
  },
  {
   "cell_type": "code",
   "execution_count": 129,
   "id": "566dc5ad-d55e-41d5-b13d-f8a3a0d824f3",
   "metadata": {},
   "outputs": [],
   "source": [
    "# Export the bar chart\n",
    "OrdersBarChart_DayOfWeek.figure.savefig(os.path.join(path, '04 Analysis','Visualizations', 'OrdersBarChart_DayOfWeek.png'))"
   ]
  },
  {
   "cell_type": "code",
   "execution_count": 131,
   "id": "a1a9c7e4-d51e-4384-8057-d35a73997ed1",
   "metadata": {},
   "outputs": [
    {
     "data": {
      "text/plain": [
       "Text(0.5, 0, 'Hour of Day (24 hr clock)')"
      ]
     },
     "execution_count": 131,
     "metadata": {},
     "output_type": "execute_result"
    },
    {
     "data": {
      "image/png": "[encoded data removed]",
      "text/plain": [
       "<Figure size 640x480 with 1 Axes>"
      ]
     },
     "metadata": {},
     "output_type": "display_data"
    }
   ],
   "source": [
    "# Visualize a histogram for Time of Order \n",
    "TimeOfDay_Histogram = df_merged_change['order_hour_of_day'].plot.hist(bins = 24)\n",
    "plt.title('Time of order')\n",
    "plt.xlabel('Hour of Day (24 hr clock)')"
   ]
  },
  {
   "cell_type": "code",
   "execution_count": 133,
   "id": "14c67fcd-0945-4554-8356-e519ce136b35",
   "metadata": {},
   "outputs": [],
   "source": [
    "# Export the histogram\n",
    "TimeOfDay_Histogram.figure.savefig(os.path.join(path, '04 Analysis','Visualizations', 'TimeOfDay_Histogram.png'))"
   ]
  },
  {
   "cell_type": "code",
   "execution_count": 135,
   "id": "3f443f4d-8893-41ec-80f2-28f5f79bdda0",
   "metadata": {},
   "outputs": [],
   "source": [
    "# Check Value counts for family status\n",
    "FamilyStatus= df_merged_change['marital_status'].value_counts(dropna= False)"
   ]
  },
  {
   "cell_type": "code",
   "execution_count": 136,
   "id": "775595e8-36dd-4751-98a1-bfe9899536bc",
   "metadata": {},
   "outputs": [
    {
     "data": {
      "text/plain": [
       "marital_status\n",
       "married                             21743711\n",
       "single                               5094410\n",
       "divorced/widowed                     2645271\n",
       "living with parents and siblings     1481172\n",
       "Name: count, dtype: int64"
      ]
     },
     "execution_count": 136,
     "metadata": {},
     "output_type": "execute_result"
    }
   ],
   "source": [
    "FamilyStatus"
   ]
  },
  {
   "cell_type": "code",
   "execution_count": 139,
   "id": "94010c5f-8077-4f2e-9046-ed47df5a6430",
   "metadata": {},
   "outputs": [
    {
     "data": {
      "image/png": "[encoded data removed]",
      "text/plain": [
       "<Figure size 640x480 with 1 Axes>"
      ]
     },
     "metadata": {},
     "output_type": "display_data"
    }
   ],
   "source": [
    "# Visualize a pie chart\n",
    "PieChart_FamilyStatus = FamilyStatus.plot.pie(autopct='%1.1f%%', labels= ['married', 'single', 'divorced/widowed', 'living with parents and siblings'], startangle=90, colors=['#ff9999','#66b3ff','#99ff99','#ffcc99'])\n",
    "# Hide the y-label\n",
    "plt.ylabel('')  \n",
    "plt.title('Distribution of Family Status')\n",
    "plt.show()"
   ]
  },
  {
   "cell_type": "code",
   "execution_count": 141,
   "id": "eee2c3c5-ddb9-4574-b97d-8b9f2e7c6fdb",
   "metadata": {},
   "outputs": [],
   "source": [
    "# Export the histogram\n",
    "PieChart_FamilyStatus.figure.savefig(os.path.join(path, '04 Analysis','Visualizations', 'FamilyStatus_PieChart.png'))"
   ]
  },
  {
   "cell_type": "code",
   "execution_count": 143,
   "id": "38628f35-cf3c-486a-863c-9445d07d12db",
   "metadata": {},
   "outputs": [],
   "source": [
    "# Using Crosstab function on loyalty with income group\n",
    "Cross_LoyaltyIncome = pd.crosstab(df_merged_change['loyalty_flag'], df_merged_change['Income Group'], dropna = False)"
   ]
  },
  {
   "cell_type": "code",
   "execution_count": 145,
   "id": "9d0ff9fd-2f02-4cbd-b966-dfed4cb84916",
   "metadata": {},
   "outputs": [
    {
     "data": {
      "text/html": [
       "<div>\n",
       "<style scoped>\n",
       "    .dataframe tbody tr th:only-of-type {\n",
       "        vertical-align: middle;\n",
       "    }\n",
       "\n",
       "    .dataframe tbody tr th {\n",
       "        vertical-align: top;\n",
       "    }\n",
       "\n",
       "    .dataframe thead th {\n",
       "        text-align: right;\n",
       "    }\n",
       "</style>\n",
       "<table border=\"1\" class=\"dataframe\">\n",
       "  <thead>\n",
       "    <tr style=\"text-align: right;\">\n",
       "      <th>Income Group</th>\n",
       "      <th>HIGH</th>\n",
       "      <th>LOW</th>\n",
       "      <th>MIDDLE</th>\n",
       "    </tr>\n",
       "    <tr>\n",
       "      <th>loyalty_flag</th>\n",
       "      <th></th>\n",
       "      <th></th>\n",
       "      <th></th>\n",
       "    </tr>\n",
       "  </thead>\n",
       "  <tbody>\n",
       "    <tr>\n",
       "      <th>Loyal customer</th>\n",
       "      <td>1310941</td>\n",
       "      <td>1032934</td>\n",
       "      <td>7940218</td>\n",
       "    </tr>\n",
       "    <tr>\n",
       "      <th>New customer</th>\n",
       "      <td>575272</td>\n",
       "      <td>627180</td>\n",
       "      <td>3601243</td>\n",
       "    </tr>\n",
       "    <tr>\n",
       "      <th>Regular customer</th>\n",
       "      <td>2008321</td>\n",
       "      <td>1702440</td>\n",
       "      <td>12166015</td>\n",
       "    </tr>\n",
       "  </tbody>\n",
       "</table>\n",
       "</div>"
      ],
      "text/plain": [
       "Income Group         HIGH      LOW    MIDDLE\n",
       "loyalty_flag                                \n",
       "Loyal customer    1310941  1032934   7940218\n",
       "New customer       575272   627180   3601243\n",
       "Regular customer  2008321  1702440  12166015"
      ]
     },
     "execution_count": 145,
     "metadata": {},
     "output_type": "execute_result"
    }
   ],
   "source": [
    "Cross_LoyaltyIncome"
   ]
  },
  {
   "cell_type": "code",
   "execution_count": 147,
   "id": "5758158e-0e8b-4d79-8050-542d64b87fca",
   "metadata": {},
   "outputs": [
    {
     "data": {
      "text/plain": [
       "(array([0, 1, 2]),\n",
       " [Text(0, 0, 'Loyal customer'),\n",
       "  Text(1, 0, 'New customer'),\n",
       "  Text(2, 0, 'Regular customer')])"
      ]
     },
     "execution_count": 147,
     "metadata": {},
     "output_type": "execute_result"
    },
    {
     "data": {
      "image/png": "[encoded data removed]",
      "text/plain": [
       "<Figure size 640x480 with 1 Axes>"
      ]
     },
     "metadata": {},
     "output_type": "display_data"
    }
   ],
   "source": [
    "# Visualize a bar chart on loyalty across different Income  Groups\n",
    "BarChart_LoyaltyIncome = Cross_LoyaltyIncome.plot.bar()\n",
    "plt.title('Loyalty by Income Group')\n",
    "plt.xlabel('')\n",
    "plt.ylabel('count')\n",
    "plt.xticks(rotation=0)"
   ]
  },
  {
   "cell_type": "code",
   "execution_count": 149,
   "id": "504efe2f-1004-4b34-a3c1-00db6b1c93f2",
   "metadata": {},
   "outputs": [],
   "source": [
    "# Export the Bar Chart\n",
    "BarChart_LoyaltyIncome.figure.savefig(os.path.join(path, '04 Analysis','Visualizations', 'loyalty_income_group_bar.png'))"
   ]
  },
  {
   "cell_type": "code",
   "execution_count": 153,
   "id": "b5b6346b-da13-4b55-8d57-4e2b417601cc",
   "metadata": {},
   "outputs": [],
   "source": [
    "# Using Crosstab function on loyalty with Family Status\n",
    "Cross_LoyaltyFamilyStatus = pd.crosstab(df_merged_change['loyalty_flag'], df_merged_change['marital_status'], dropna = False)"
   ]
  },
  {
   "cell_type": "code",
   "execution_count": 155,
   "id": "e45fe4a1-9f4c-4bf2-a055-5d4437b5e9f2",
   "metadata": {},
   "outputs": [
    {
     "data": {
      "text/html": [
       "<div>\n",
       "<style scoped>\n",
       "    .dataframe tbody tr th:only-of-type {\n",
       "        vertical-align: middle;\n",
       "    }\n",
       "\n",
       "    .dataframe tbody tr th {\n",
       "        vertical-align: top;\n",
       "    }\n",
       "\n",
       "    .dataframe thead th {\n",
       "        text-align: right;\n",
       "    }\n",
       "</style>\n",
       "<table border=\"1\" class=\"dataframe\">\n",
       "  <thead>\n",
       "    <tr style=\"text-align: right;\">\n",
       "      <th>marital_status</th>\n",
       "      <th>divorced/widowed</th>\n",
       "      <th>living with parents and siblings</th>\n",
       "      <th>married</th>\n",
       "      <th>single</th>\n",
       "    </tr>\n",
       "    <tr>\n",
       "      <th>loyalty_flag</th>\n",
       "      <th></th>\n",
       "      <th></th>\n",
       "      <th></th>\n",
       "      <th></th>\n",
       "    </tr>\n",
       "  </thead>\n",
       "  <tbody>\n",
       "    <tr>\n",
       "      <th>Loyal customer</th>\n",
       "      <td>882722</td>\n",
       "      <td>492749</td>\n",
       "      <td>7202500</td>\n",
       "      <td>1706122</td>\n",
       "    </tr>\n",
       "    <tr>\n",
       "      <th>New customer</th>\n",
       "      <td>403781</td>\n",
       "      <td>221779</td>\n",
       "      <td>3380651</td>\n",
       "      <td>797484</td>\n",
       "    </tr>\n",
       "    <tr>\n",
       "      <th>Regular customer</th>\n",
       "      <td>1358768</td>\n",
       "      <td>766644</td>\n",
       "      <td>11160560</td>\n",
       "      <td>2590804</td>\n",
       "    </tr>\n",
       "  </tbody>\n",
       "</table>\n",
       "</div>"
      ],
      "text/plain": [
       "marital_status    divorced/widowed  living with parents and siblings  \\\n",
       "loyalty_flag                                                           \n",
       "Loyal customer              882722                            492749   \n",
       "New customer                403781                            221779   \n",
       "Regular customer           1358768                            766644   \n",
       "\n",
       "marital_status     married   single  \n",
       "loyalty_flag                         \n",
       "Loyal customer     7202500  1706122  \n",
       "New customer       3380651   797484  \n",
       "Regular customer  11160560  2590804  "
      ]
     },
     "execution_count": 155,
     "metadata": {},
     "output_type": "execute_result"
    }
   ],
   "source": [
    "Cross_LoyaltyFamilyStatus"
   ]
  },
  {
   "cell_type": "code",
   "execution_count": 157,
   "id": "e2fdadc3-f240-4ab6-90d9-94d15cb731da",
   "metadata": {},
   "outputs": [
    {
     "data": {
      "text/plain": [
       "(array([0, 1, 2]),\n",
       " [Text(0, 0, 'Loyal customer'),\n",
       "  Text(1, 0, 'New customer'),\n",
       "  Text(2, 0, 'Regular customer')])"
      ]
     },
     "execution_count": 157,
     "metadata": {},
     "output_type": "execute_result"
    },
    {
     "data": {
      "image/png": "[encoded data removed]",
      "text/plain": [
       "<Figure size 640x480 with 1 Axes>"
      ]
     },
     "metadata": {},
     "output_type": "display_data"
    }
   ],
   "source": [
    "# Visualize a Bar Chart Loyalty across different family status of customers\n",
    "BarChart_LoyaltyFamilyStatus = Cross_LoyaltyFamilyStatus.plot.bar()\n",
    "plt.title('Loyalty by Family Status')\n",
    "plt.xlabel('')\n",
    "plt.ylabel('count')\n",
    "plt.xticks(rotation=0)"
   ]
  },
  {
   "cell_type": "code",
   "execution_count": 159,
   "id": "af1cb332-a97b-4c56-8cc8-4205691b69b5",
   "metadata": {},
   "outputs": [],
   "source": [
    "# Export the Bar Chart\n",
    "BarChart_LoyaltyFamilyStatus.figure.savefig(os.path.join(path, '04 Analysis','Visualizations', 'BarChart_LoyaltyFamilyStatus.png'))"
   ]
  },
  {
   "cell_type": "code",
   "execution_count": 173,
   "id": "6c3fad61-ae3b-4bf7-9af5-f1e577685ffb",
   "metadata": {},
   "outputs": [],
   "source": [
    "#Visualize Prince range\n",
    "Price_Range= df_merged_change['prices_range_loc'].value_counts(dropna = False)"
   ]
  },
  {
   "cell_type": "code",
   "execution_count": 175,
   "id": "a9d9f1f6-7381-4168-9d0d-6b4649251c99",
   "metadata": {},
   "outputs": [
    {
     "data": {
      "text/plain": [
       "prices_range_loc\n",
       "Mid-range product     20891771\n",
       "Low-range product      9674840\n",
       "High-range product      397953\n",
       "Name: count, dtype: int64"
      ]
     },
     "execution_count": 175,
     "metadata": {},
     "output_type": "execute_result"
    }
   ],
   "source": [
    "Price_Range"
   ]
  },
  {
   "cell_type": "code",
   "execution_count": 185,
   "id": "2bf5f795-aea2-4854-b733-b35b252ae955",
   "metadata": {},
   "outputs": [
    {
     "name": "stderr",
     "output_type": "stream",
     "text": [
      "C:\\Users\\beaac\\AppData\\Local\\Temp\\ipykernel_3320\\1399979351.py:5: SettingWithCopyWarning: \n",
      "A value is trying to be set on a copy of a slice from a DataFrame.\n",
      "Try using .loc[row_indexer,col_indexer] = value instead\n",
      "\n",
      "See the caveats in the documentation: https://pandas.pydata.org/pandas-docs/stable/user_guide/indexing.html#returning-a-view-versus-a-copy\n",
      "  df_merged_change['prices_range_loc'] = pd.Categorical(df_merged_change['prices_range_loc'], categories=ordered_categories, ordered=True)\n"
     ]
    },
    {
     "data": {
      "image/png": "[encoded data removed]",
      "text/plain": [
       "<Figure size 1000x600 with 1 Axes>"
      ]
     },
     "metadata": {},
     "output_type": "display_data"
    }
   ],
   "source": [
    "# Define ordered categories\n",
    "ordered_categories = ['Low-range product', 'Mid-range product', 'High-range product']\n",
    "\n",
    "# Use Categorical data type to enforce the order\n",
    "df_merged_change['prices_range_loc'] = pd.Categorical(df_merged_change['prices_range_loc'], categories=ordered_categories, ordered=True)\n",
    "\n",
    "# Create the plot\n",
    "plt.figure(figsize=(10, 6))\n",
    "df_merged_change['prices_range_loc'].value_counts().sort_index().plot(kind='bar')\n",
    "\n",
    "# Set title and labels\n",
    "plt.title('Sales Distribution by Price Range')\n",
    "plt.xlabel('Product Price Range')\n",
    "plt.ylabel('Order Counts')\n",
    "\n",
    "# Display the plot\n",
    "plt.show()\n"
   ]
  },
  {
   "cell_type": "code",
   "execution_count": 187,
   "id": "f5531f35-e72b-4b42-95c8-419112108de7",
   "metadata": {},
   "outputs": [
    {
     "data": {
      "text/plain": [
       "<Figure size 640x480 with 0 Axes>"
      ]
     },
     "metadata": {},
     "output_type": "display_data"
    }
   ],
   "source": [
    "plt.gcf().savefig(os.path.join(path, '04 Analysis', 'Visualizations', '5 4.10 bar_sales_product_ranges.png'))"
   ]
  },
  {
   "cell_type": "code",
   "execution_count": 189,
   "id": "7e309c76-d65f-450b-90ea-d684aab1467a",
   "metadata": {},
   "outputs": [],
   "source": [
    "#Exporting final merged dataframe\n",
    "df_merged_change.to_pickle(os.path.join(path, '02 Data','Prepared Data', '4.10 customer_ords_prods.pkl'))"
   ]
  },
  {
   "cell_type": "code",
   "execution_count": null,
   "id": "696afe32-03ef-404f-9569-3614a51ee018",
   "metadata": {},
   "outputs": [],
   "source": []
  }
 ],
 "metadata": {
  "kernelspec": {
   "display_name": "Python [conda env:base] *",
   "language": "python",
   "name": "conda-base-py"
  },
  "language_info": {
   "codemirror_mode": {
    "name": "ipython",
    "version": 3
   },
   "file_extension": ".py",
   "mimetype": "text/x-python",
   "name": "python",
   "nbconvert_exporter": "python",
   "pygments_lexer": "ipython3",
   "version": "3.12.7"
  }
 },
 "nbformat": 4,
 "nbformat_minor": 5
}
