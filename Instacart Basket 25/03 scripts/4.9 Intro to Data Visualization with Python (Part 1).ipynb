{
 "cells": [
  {
   "cell_type": "markdown",
   "id": "f6cc7899-283f-4e50-b49e-dbabeb09c047",
   "metadata": {},
   "source": [
    "Import Libraries"
   ]
  },
  {
   "cell_type": "code",
   "execution_count": 174,
   "id": "594e503e-4acd-4ec2-8f7d-4eaee1688cdc",
   "metadata": {},
   "outputs": [],
   "source": [
    "# Importin Libraries\n",
    "import pandas as pd\n",
    "import numpy as np\n",
    "import os"
   ]
  },
  {
   "cell_type": "code",
   "execution_count": 176,
   "id": "f96b2402-4e1b-433d-8148-075a80d9f2bc",
   "metadata": {},
   "outputs": [],
   "source": [
    "#Creating path\n",
    "path= r'C:\\Users\\beaac\\Instacart Basket 25'"
   ]
  },
  {
   "cell_type": "code",
   "execution_count": 178,
   "id": "1c9faf29-9295-40aa-9933-07a02dbc9144",
   "metadata": {},
   "outputs": [],
   "source": [
    "#Import new customers data set from the original data\n",
    "df_customers = pd.read_csv(os.path.join(path, '02 Data', 'Original Data', 'customers.csv'))"
   ]
  },
  {
   "cell_type": "code",
   "execution_count": 180,
   "id": "ac9281bd-a5df-4fa3-b2ab-2ae07890e736",
   "metadata": {},
   "outputs": [
    {
     "data": {
      "text/html": [
       "<div>\n",
       "<style scoped>\n",
       "    .dataframe tbody tr th:only-of-type {\n",
       "        vertical-align: middle;\n",
       "    }\n",
       "\n",
       "    .dataframe tbody tr th {\n",
       "        vertical-align: top;\n",
       "    }\n",
       "\n",
       "    .dataframe thead th {\n",
       "        text-align: right;\n",
       "    }\n",
       "</style>\n",
       "<table border=\"1\" class=\"dataframe\">\n",
       "  <thead>\n",
       "    <tr style=\"text-align: right;\">\n",
       "      <th></th>\n",
       "      <th>user_id</th>\n",
       "      <th>First Name</th>\n",
       "      <th>Surnam</th>\n",
       "      <th>Gender</th>\n",
       "      <th>STATE</th>\n",
       "      <th>Age</th>\n",
       "      <th>date_joined</th>\n",
       "      <th>n_dependants</th>\n",
       "      <th>fam_status</th>\n",
       "      <th>income</th>\n",
       "    </tr>\n",
       "  </thead>\n",
       "  <tbody>\n",
       "    <tr>\n",
       "      <th>0</th>\n",
       "      <td>26711</td>\n",
       "      <td>Deborah</td>\n",
       "      <td>Esquivel</td>\n",
       "      <td>Female</td>\n",
       "      <td>Missouri</td>\n",
       "      <td>48</td>\n",
       "      <td>1/1/2017</td>\n",
       "      <td>3</td>\n",
       "      <td>married</td>\n",
       "      <td>165665</td>\n",
       "    </tr>\n",
       "    <tr>\n",
       "      <th>1</th>\n",
       "      <td>33890</td>\n",
       "      <td>Patricia</td>\n",
       "      <td>Hart</td>\n",
       "      <td>Female</td>\n",
       "      <td>New Mexico</td>\n",
       "      <td>36</td>\n",
       "      <td>1/1/2017</td>\n",
       "      <td>0</td>\n",
       "      <td>single</td>\n",
       "      <td>59285</td>\n",
       "    </tr>\n",
       "    <tr>\n",
       "      <th>2</th>\n",
       "      <td>65803</td>\n",
       "      <td>Kenneth</td>\n",
       "      <td>Farley</td>\n",
       "      <td>Male</td>\n",
       "      <td>Idaho</td>\n",
       "      <td>35</td>\n",
       "      <td>1/1/2017</td>\n",
       "      <td>2</td>\n",
       "      <td>married</td>\n",
       "      <td>99568</td>\n",
       "    </tr>\n",
       "    <tr>\n",
       "      <th>3</th>\n",
       "      <td>125935</td>\n",
       "      <td>Michelle</td>\n",
       "      <td>Hicks</td>\n",
       "      <td>Female</td>\n",
       "      <td>Iowa</td>\n",
       "      <td>40</td>\n",
       "      <td>1/1/2017</td>\n",
       "      <td>0</td>\n",
       "      <td>single</td>\n",
       "      <td>42049</td>\n",
       "    </tr>\n",
       "    <tr>\n",
       "      <th>4</th>\n",
       "      <td>130797</td>\n",
       "      <td>Ann</td>\n",
       "      <td>Gilmore</td>\n",
       "      <td>Female</td>\n",
       "      <td>Maryland</td>\n",
       "      <td>26</td>\n",
       "      <td>1/1/2017</td>\n",
       "      <td>1</td>\n",
       "      <td>married</td>\n",
       "      <td>40374</td>\n",
       "    </tr>\n",
       "  </tbody>\n",
       "</table>\n",
       "</div>"
      ],
      "text/plain": [
       "   user_id First Name    Surnam  Gender       STATE  Age date_joined  \\\n",
       "0    26711    Deborah  Esquivel  Female    Missouri   48    1/1/2017   \n",
       "1    33890   Patricia      Hart  Female  New Mexico   36    1/1/2017   \n",
       "2    65803    Kenneth    Farley    Male       Idaho   35    1/1/2017   \n",
       "3   125935   Michelle     Hicks  Female        Iowa   40    1/1/2017   \n",
       "4   130797        Ann   Gilmore  Female    Maryland   26    1/1/2017   \n",
       "\n",
       "   n_dependants fam_status  income  \n",
       "0             3    married  165665  \n",
       "1             0     single   59285  \n",
       "2             2    married   99568  \n",
       "3             0     single   42049  \n",
       "4             1    married   40374  "
      ]
     },
     "execution_count": 180,
     "metadata": {},
     "output_type": "execute_result"
    }
   ],
   "source": [
    "# check customers dataframe\n",
    "df_customers.head(5)"
   ]
  },
  {
   "cell_type": "code",
   "execution_count": 182,
   "id": "c13e36cc-ecdc-4c1f-9839-80ea673879a4",
   "metadata": {},
   "outputs": [
    {
     "data": {
      "text/plain": [
       "(206209, 10)"
      ]
     },
     "execution_count": 182,
     "metadata": {},
     "output_type": "execute_result"
    }
   ],
   "source": [
    "#check the dimensions of customers dataframe\n",
    "df_customers.shape"
   ]
  },
  {
   "cell_type": "code",
   "execution_count": 184,
   "id": "370d23f8-61ed-46d4-9d25-c4944a299b8c",
   "metadata": {},
   "outputs": [
    {
     "data": {
      "text/html": [
       "<div>\n",
       "<style scoped>\n",
       "    .dataframe tbody tr th:only-of-type {\n",
       "        vertical-align: middle;\n",
       "    }\n",
       "\n",
       "    .dataframe tbody tr th {\n",
       "        vertical-align: top;\n",
       "    }\n",
       "\n",
       "    .dataframe thead th {\n",
       "        text-align: right;\n",
       "    }\n",
       "</style>\n",
       "<table border=\"1\" class=\"dataframe\">\n",
       "  <thead>\n",
       "    <tr style=\"text-align: right;\">\n",
       "      <th></th>\n",
       "      <th>user_id</th>\n",
       "      <th>Age</th>\n",
       "      <th>n_dependants</th>\n",
       "      <th>income</th>\n",
       "    </tr>\n",
       "  </thead>\n",
       "  <tbody>\n",
       "    <tr>\n",
       "      <th>count</th>\n",
       "      <td>206209.000000</td>\n",
       "      <td>206209.000000</td>\n",
       "      <td>206209.000000</td>\n",
       "      <td>206209.000000</td>\n",
       "    </tr>\n",
       "    <tr>\n",
       "      <th>mean</th>\n",
       "      <td>103105.000000</td>\n",
       "      <td>49.501646</td>\n",
       "      <td>1.499823</td>\n",
       "      <td>94632.852548</td>\n",
       "    </tr>\n",
       "    <tr>\n",
       "      <th>std</th>\n",
       "      <td>59527.555167</td>\n",
       "      <td>18.480962</td>\n",
       "      <td>1.118433</td>\n",
       "      <td>42473.786988</td>\n",
       "    </tr>\n",
       "    <tr>\n",
       "      <th>min</th>\n",
       "      <td>1.000000</td>\n",
       "      <td>18.000000</td>\n",
       "      <td>0.000000</td>\n",
       "      <td>25903.000000</td>\n",
       "    </tr>\n",
       "    <tr>\n",
       "      <th>25%</th>\n",
       "      <td>51553.000000</td>\n",
       "      <td>33.000000</td>\n",
       "      <td>0.000000</td>\n",
       "      <td>59874.000000</td>\n",
       "    </tr>\n",
       "    <tr>\n",
       "      <th>50%</th>\n",
       "      <td>103105.000000</td>\n",
       "      <td>49.000000</td>\n",
       "      <td>1.000000</td>\n",
       "      <td>93547.000000</td>\n",
       "    </tr>\n",
       "    <tr>\n",
       "      <th>75%</th>\n",
       "      <td>154657.000000</td>\n",
       "      <td>66.000000</td>\n",
       "      <td>3.000000</td>\n",
       "      <td>124244.000000</td>\n",
       "    </tr>\n",
       "    <tr>\n",
       "      <th>max</th>\n",
       "      <td>206209.000000</td>\n",
       "      <td>81.000000</td>\n",
       "      <td>3.000000</td>\n",
       "      <td>593901.000000</td>\n",
       "    </tr>\n",
       "  </tbody>\n",
       "</table>\n",
       "</div>"
      ],
      "text/plain": [
       "             user_id            Age   n_dependants         income\n",
       "count  206209.000000  206209.000000  206209.000000  206209.000000\n",
       "mean   103105.000000      49.501646       1.499823   94632.852548\n",
       "std     59527.555167      18.480962       1.118433   42473.786988\n",
       "min         1.000000      18.000000       0.000000   25903.000000\n",
       "25%     51553.000000      33.000000       0.000000   59874.000000\n",
       "50%    103105.000000      49.000000       1.000000   93547.000000\n",
       "75%    154657.000000      66.000000       3.000000  124244.000000\n",
       "max    206209.000000      81.000000       3.000000  593901.000000"
      ]
     },
     "execution_count": 184,
     "metadata": {},
     "output_type": "execute_result"
    }
   ],
   "source": [
    "#View descriptive statistics\n",
    "df_customers.describe()"
   ]
  },
  {
   "cell_type": "code",
   "execution_count": 186,
   "id": "9ac364cf-3f2c-4bf1-b66c-34edec61a42f",
   "metadata": {},
   "outputs": [
    {
     "data": {
      "text/plain": [
       "user_id          int64\n",
       "First Name      object\n",
       "Surnam          object\n",
       "Gender          object\n",
       "STATE           object\n",
       "Age              int64\n",
       "date_joined     object\n",
       "n_dependants     int64\n",
       "fam_status      object\n",
       "income           int64\n",
       "dtype: object"
      ]
     },
     "execution_count": 186,
     "metadata": {},
     "output_type": "execute_result"
    }
   ],
   "source": [
    "#Check data types\n",
    "df_customers.dtypes"
   ]
  },
  {
   "cell_type": "markdown",
   "id": "f156dd4f-2926-4372-a627-907995c6fef9",
   "metadata": {},
   "source": [
    "Wragle the data"
   ]
  },
  {
   "cell_type": "markdown",
   "id": "831c49b8-d3a3-41c6-b580-a790347ad9dc",
   "metadata": {},
   "source": [
    "Rename the colummns"
   ]
  },
  {
   "cell_type": "code",
   "execution_count": 190,
   "id": "da023b95-fb38-45fa-b5c2-a4440d6cdd57",
   "metadata": {},
   "outputs": [],
   "source": [
    "df_customers.rename(columns = {'First Name': 'first_name'},inplace =True)\n",
    "df_customers.rename(columns = {'Surnam': 'surname'},inplace =True)\n",
    "df_customers.rename(columns = {'Gender': 'gender'},inplace =True)\n",
    "df_customers.rename(columns = {'Age': 'age'},inplace =True)\n",
    "df_customers.rename(columns = {'STATE': 'state'},inplace =True)\n",
    "df_customers.rename(columns = {'fam_status': 'marital_status'},inplace =True)"
   ]
  },
  {
   "cell_type": "code",
   "execution_count": 192,
   "id": "0f74a674-04bc-4d72-9614-37d29127005b",
   "metadata": {},
   "outputs": [
    {
     "data": {
      "text/plain": [
       "Index(['user_id', 'first_name', 'surname', 'gender', 'state', 'age',\n",
       "       'date_joined', 'n_dependants', 'marital_status', 'income'],\n",
       "      dtype='object')"
      ]
     },
     "execution_count": 192,
     "metadata": {},
     "output_type": "execute_result"
    }
   ],
   "source": [
    "#check columns names\n",
    "df_customers.columns"
   ]
  },
  {
   "cell_type": "markdown",
   "id": "1720a3fc-ba65-41aa-9cb3-14bbfc13f218",
   "metadata": {},
   "source": [
    "For the analysis of the customer DataFrame, all columns hold significance. Therefore, none will be dropped"
   ]
  },
  {
   "cell_type": "markdown",
   "id": "43dc3403-52d9-4bc3-a79b-6e6b0d9b5f80",
   "metadata": {},
   "source": [
    "Complete data quality and consistency checks"
   ]
  },
  {
   "cell_type": "code",
   "execution_count": 196,
   "id": "1be31212-9f83-4e6e-b23b-b9576a83870d",
   "metadata": {},
   "outputs": [
    {
     "data": {
      "text/plain": [
       "user_id            int64\n",
       "first_name        object\n",
       "surname           object\n",
       "gender            object\n",
       "state             object\n",
       "age                int64\n",
       "date_joined       object\n",
       "n_dependants       int64\n",
       "marital_status    object\n",
       "income             int64\n",
       "dtype: object"
      ]
     },
     "execution_count": 196,
     "metadata": {},
     "output_type": "execute_result"
    }
   ],
   "source": [
    "#chck data types \n",
    "df_customers.dtypes"
   ]
  },
  {
   "cell_type": "code",
   "execution_count": 198,
   "id": "853a9079-e10d-4308-8479-c9fbd5dac0a3",
   "metadata": {},
   "outputs": [
    {
     "name": "stdout",
     "output_type": "stream",
     "text": [
      "first_name\n"
     ]
    }
   ],
   "source": [
    "#check for mixed dtypes in each column\n",
    "for col in df_customers.columns.tolist():\n",
    "    weird = (df_customers [[col]].map (type)!= df_customers[[col]].iloc[0].apply(type)).any(axis=1)\n",
    "    if len (df_customers [weird]) > 0:\n",
    "        print (col)"
   ]
  },
  {
   "cell_type": "code",
   "execution_count": 200,
   "id": "593b84cd-2f21-49e6-9fea-fca8d4d74d2b",
   "metadata": {},
   "outputs": [],
   "source": [
    "#there is mixed data in the first_name column\n",
    "df_customers['first_name'] = df_customers['first_name'].astype('str')"
   ]
  },
  {
   "cell_type": "code",
   "execution_count": 202,
   "id": "4f1a04ea-4025-47c4-b085-7137cc40ceb8",
   "metadata": {},
   "outputs": [],
   "source": [
    "# Change user_id dtype to str\n",
    "df_customers['user_id'] = df_customers['user_id'].astype('str')"
   ]
  },
  {
   "cell_type": "code",
   "execution_count": 204,
   "id": "341464aa-ec7b-4b65-a949-90ac740d13e6",
   "metadata": {},
   "outputs": [
    {
     "data": {
      "text/plain": [
       "user_id           object\n",
       "first_name        object\n",
       "surname           object\n",
       "gender            object\n",
       "state             object\n",
       "age                int64\n",
       "date_joined       object\n",
       "n_dependants       int64\n",
       "marital_status    object\n",
       "income             int64\n",
       "dtype: object"
      ]
     },
     "execution_count": 204,
     "metadata": {},
     "output_type": "execute_result"
    }
   ],
   "source": [
    "#recheck the datatypes\n",
    "df_customers.dtypes"
   ]
  },
  {
   "cell_type": "code",
   "execution_count": 206,
   "id": "64ae025b-6a65-4bdd-9dbb-d17112ba1bd2",
   "metadata": {},
   "outputs": [],
   "source": [
    "#Change types from int 64 to int 8\n",
    "df_customers['age'] = df_customers['age'].astype('int8')\n",
    "df_customers['n_dependants'] = df_customers['n_dependants'].astype('int8')\n"
   ]
  },
  {
   "cell_type": "code",
   "execution_count": 208,
   "id": "1b597682-8c8b-4649-9f1f-9cc8f9a75c92",
   "metadata": {},
   "outputs": [
    {
     "name": "stdout",
     "output_type": "stream",
     "text": [
      "<class 'pandas.core.frame.DataFrame'>\n",
      "RangeIndex: 206209 entries, 0 to 206208\n",
      "Data columns (total 10 columns):\n",
      " #   Column          Non-Null Count   Dtype \n",
      "---  ------          --------------   ----- \n",
      " 0   user_id         206209 non-null  object\n",
      " 1   first_name      206209 non-null  object\n",
      " 2   surname         206209 non-null  object\n",
      " 3   gender          206209 non-null  object\n",
      " 4   state           206209 non-null  object\n",
      " 5   age             206209 non-null  int8  \n",
      " 6   date_joined     206209 non-null  object\n",
      " 7   n_dependants    206209 non-null  int8  \n",
      " 8   marital_status  206209 non-null  object\n",
      " 9   income          206209 non-null  int64 \n",
      "dtypes: int64(1), int8(2), object(7)\n",
      "memory usage: 13.0+ MB\n"
     ]
    }
   ],
   "source": [
    "df_customers.info()"
   ]
  },
  {
   "cell_type": "markdown",
   "id": "a16c5409-a41d-4c38-971c-6feaee7a66d9",
   "metadata": {},
   "source": [
    "All columns have the correct data types, ensuring consistency with no mixed types"
   ]
  },
  {
   "cell_type": "code",
   "execution_count": 211,
   "id": "1f144371-29e7-46c3-a752-ceb0b5728a28",
   "metadata": {},
   "outputs": [
    {
     "data": {
      "text/plain": [
       "user_id           0\n",
       "first_name        0\n",
       "surname           0\n",
       "gender            0\n",
       "state             0\n",
       "age               0\n",
       "date_joined       0\n",
       "n_dependants      0\n",
       "marital_status    0\n",
       "income            0\n",
       "dtype: int64"
      ]
     },
     "execution_count": 211,
     "metadata": {},
     "output_type": "execute_result"
    }
   ],
   "source": [
    "#check for missing data \n",
    "df_customers.isnull().sum()"
   ]
  },
  {
   "cell_type": "markdown",
   "id": "520a4e33-1f81-4f44-acec-45526bed6207",
   "metadata": {},
   "source": [
    "There is no any missing values"
   ]
  },
  {
   "cell_type": "code",
   "execution_count": 214,
   "id": "9baa8fdc-e8ed-4118-a5fc-534b14c6623c",
   "metadata": {},
   "outputs": [],
   "source": [
    "#check for duplicates\n",
    "df_dups= df_customers[df_customers.duplicated()]"
   ]
  },
  {
   "cell_type": "code",
   "execution_count": 216,
   "id": "40b60245-ce6e-44b4-8c5d-f8628a01bde6",
   "metadata": {},
   "outputs": [
    {
     "data": {
      "text/html": [
       "<div>\n",
       "<style scoped>\n",
       "    .dataframe tbody tr th:only-of-type {\n",
       "        vertical-align: middle;\n",
       "    }\n",
       "\n",
       "    .dataframe tbody tr th {\n",
       "        vertical-align: top;\n",
       "    }\n",
       "\n",
       "    .dataframe thead th {\n",
       "        text-align: right;\n",
       "    }\n",
       "</style>\n",
       "<table border=\"1\" class=\"dataframe\">\n",
       "  <thead>\n",
       "    <tr style=\"text-align: right;\">\n",
       "      <th></th>\n",
       "      <th>user_id</th>\n",
       "      <th>first_name</th>\n",
       "      <th>surname</th>\n",
       "      <th>gender</th>\n",
       "      <th>state</th>\n",
       "      <th>age</th>\n",
       "      <th>date_joined</th>\n",
       "      <th>n_dependants</th>\n",
       "      <th>marital_status</th>\n",
       "      <th>income</th>\n",
       "    </tr>\n",
       "  </thead>\n",
       "  <tbody>\n",
       "  </tbody>\n",
       "</table>\n",
       "</div>"
      ],
      "text/plain": [
       "Empty DataFrame\n",
       "Columns: [user_id, first_name, surname, gender, state, age, date_joined, n_dependants, marital_status, income]\n",
       "Index: []"
      ]
     },
     "execution_count": 216,
     "metadata": {},
     "output_type": "execute_result"
    }
   ],
   "source": [
    "df_dups"
   ]
  },
  {
   "cell_type": "markdown",
   "id": "2024df09-8147-4400-b746-0619527240f1",
   "metadata": {},
   "source": [
    "There is no any duplicates values"
   ]
  },
  {
   "cell_type": "markdown",
   "id": "e1d52934-3fee-49a1-87d0-f347ec3114e1",
   "metadata": {},
   "source": [
    "Combine customer data with the rest of instacart data"
   ]
  },
  {
   "cell_type": "code",
   "execution_count": 220,
   "id": "3f882c91-e12b-40fe-9b91-e3f674dd5e75",
   "metadata": {},
   "outputs": [],
   "source": [
    "#import 'Order products grouped' from last exercise\n",
    "order_products= pd.read_pickle(os.path.join(path,'02 Data','Prepared Data', 'orders_products_merged_grouped.pkl'))"
   ]
  },
  {
   "cell_type": "code",
   "execution_count": 221,
   "id": "3f26b615-154a-4387-8565-9ab9573a3c72",
   "metadata": {},
   "outputs": [
    {
     "data": {
      "text/plain": [
       "(32404859, 27)"
      ]
     },
     "execution_count": 221,
     "metadata": {},
     "output_type": "execute_result"
    }
   ],
   "source": [
    "#check shape of order products\n",
    "order_products.shape"
   ]
  },
  {
   "cell_type": "code",
   "execution_count": 222,
   "id": "0dabeb79-3bc3-468d-b1d8-ec6b40196e07",
   "metadata": {},
   "outputs": [
    {
     "data": {
      "text/plain": [
       "(206209, 10)"
      ]
     },
     "execution_count": 222,
     "metadata": {},
     "output_type": "execute_result"
    }
   ],
   "source": [
    "#check shape of customers \n",
    "df_customers.shape"
   ]
  },
  {
   "cell_type": "code",
   "execution_count": 223,
   "id": "04572e80-8ca8-45dc-b70a-0de33d541f57",
   "metadata": {},
   "outputs": [
    {
     "name": "stdout",
     "output_type": "stream",
     "text": [
      "<class 'pandas.core.frame.DataFrame'>\n",
      "RangeIndex: 32404859 entries, 0 to 32404858\n",
      "Data columns (total 27 columns):\n",
      " #   Column                      Dtype   \n",
      "---  ------                      -----   \n",
      " 0   Unnamed: 0                  int64   \n",
      " 1   order_id                    int64   \n",
      " 2   user_id                     int64   \n",
      " 3   order_number                int64   \n",
      " 4   orders_day_of_week          int64   \n",
      " 5   order_hour_of_day           int64   \n",
      " 6   days_since_prior_order      float64 \n",
      " 7   product_id                  int64   \n",
      " 8   add_to_cart_order           int64   \n",
      " 9   reordered                   int64   \n",
      " 10  _merge                      category\n",
      " 11  product_name                object  \n",
      " 12  aisle_id                    int64   \n",
      " 13  department_id               int64   \n",
      " 14  prices                      float64 \n",
      " 15  match                       category\n",
      " 16  prices_range_loc            object  \n",
      " 17  price_range_loc             object  \n",
      " 18  busiest_day                 object  \n",
      " 19  busiest_days                object  \n",
      " 20  busiest_period_of_day       object  \n",
      " 21  max_order                   int64   \n",
      " 22  loyalty_flag                object  \n",
      " 23  avg_product_price           float64 \n",
      " 24  spending_flag               object  \n",
      " 25  median_days_between_orders  float64 \n",
      " 26  order_frequency_flag        object  \n",
      "dtypes: category(2), float64(4), int64(12), object(9)\n",
      "memory usage: 6.1+ GB\n"
     ]
    }
   ],
   "source": [
    "order_products.info()"
   ]
  },
  {
   "cell_type": "code",
   "execution_count": 228,
   "id": "09bb557e-af57-4493-bf03-05697ef2f8f3",
   "metadata": {},
   "outputs": [
    {
     "data": {
      "text/html": [
       "<div>\n",
       "<style scoped>\n",
       "    .dataframe tbody tr th:only-of-type {\n",
       "        vertical-align: middle;\n",
       "    }\n",
       "\n",
       "    .dataframe tbody tr th {\n",
       "        vertical-align: top;\n",
       "    }\n",
       "\n",
       "    .dataframe thead th {\n",
       "        text-align: right;\n",
       "    }\n",
       "</style>\n",
       "<table border=\"1\" class=\"dataframe\">\n",
       "  <thead>\n",
       "    <tr style=\"text-align: right;\">\n",
       "      <th></th>\n",
       "      <th>Unnamed: 0</th>\n",
       "      <th>order_id</th>\n",
       "      <th>user_id</th>\n",
       "      <th>order_number</th>\n",
       "      <th>orders_day_of_week</th>\n",
       "      <th>order_hour_of_day</th>\n",
       "      <th>days_since_prior_order</th>\n",
       "      <th>product_id</th>\n",
       "      <th>add_to_cart_order</th>\n",
       "      <th>reordered</th>\n",
       "      <th>...</th>\n",
       "      <th>price_range_loc</th>\n",
       "      <th>busiest_day</th>\n",
       "      <th>busiest_days</th>\n",
       "      <th>busiest_period_of_day</th>\n",
       "      <th>max_order</th>\n",
       "      <th>loyalty_flag</th>\n",
       "      <th>avg_product_price</th>\n",
       "      <th>spending_flag</th>\n",
       "      <th>median_days_between_orders</th>\n",
       "      <th>order_frequency_flag</th>\n",
       "    </tr>\n",
       "  </thead>\n",
       "  <tbody>\n",
       "    <tr>\n",
       "      <th>0</th>\n",
       "      <td>0</td>\n",
       "      <td>2539329</td>\n",
       "      <td>1</td>\n",
       "      <td>1</td>\n",
       "      <td>2</td>\n",
       "      <td>8</td>\n",
       "      <td>0.0</td>\n",
       "      <td>196</td>\n",
       "      <td>1</td>\n",
       "      <td>0</td>\n",
       "      <td>...</td>\n",
       "      <td>Low-range product</td>\n",
       "      <td>Regularly busy</td>\n",
       "      <td>Regularly busy</td>\n",
       "      <td>Average orders</td>\n",
       "      <td>10</td>\n",
       "      <td>New customer</td>\n",
       "      <td>6.367797</td>\n",
       "      <td>Low spender</td>\n",
       "      <td>20.0</td>\n",
       "      <td>Regular customer</td>\n",
       "    </tr>\n",
       "    <tr>\n",
       "      <th>1</th>\n",
       "      <td>0</td>\n",
       "      <td>2539329</td>\n",
       "      <td>1</td>\n",
       "      <td>1</td>\n",
       "      <td>2</td>\n",
       "      <td>8</td>\n",
       "      <td>0.0</td>\n",
       "      <td>14084</td>\n",
       "      <td>2</td>\n",
       "      <td>0</td>\n",
       "      <td>...</td>\n",
       "      <td>Low-range product</td>\n",
       "      <td>Regularly busy</td>\n",
       "      <td>Regularly busy</td>\n",
       "      <td>Average orders</td>\n",
       "      <td>10</td>\n",
       "      <td>New customer</td>\n",
       "      <td>6.367797</td>\n",
       "      <td>Low spender</td>\n",
       "      <td>20.0</td>\n",
       "      <td>Regular customer</td>\n",
       "    </tr>\n",
       "    <tr>\n",
       "      <th>2</th>\n",
       "      <td>0</td>\n",
       "      <td>2539329</td>\n",
       "      <td>1</td>\n",
       "      <td>1</td>\n",
       "      <td>2</td>\n",
       "      <td>8</td>\n",
       "      <td>0.0</td>\n",
       "      <td>12427</td>\n",
       "      <td>3</td>\n",
       "      <td>0</td>\n",
       "      <td>...</td>\n",
       "      <td>Low-range product</td>\n",
       "      <td>Regularly busy</td>\n",
       "      <td>Regularly busy</td>\n",
       "      <td>Average orders</td>\n",
       "      <td>10</td>\n",
       "      <td>New customer</td>\n",
       "      <td>6.367797</td>\n",
       "      <td>Low spender</td>\n",
       "      <td>20.0</td>\n",
       "      <td>Regular customer</td>\n",
       "    </tr>\n",
       "    <tr>\n",
       "      <th>3</th>\n",
       "      <td>0</td>\n",
       "      <td>2539329</td>\n",
       "      <td>1</td>\n",
       "      <td>1</td>\n",
       "      <td>2</td>\n",
       "      <td>8</td>\n",
       "      <td>0.0</td>\n",
       "      <td>26088</td>\n",
       "      <td>4</td>\n",
       "      <td>0</td>\n",
       "      <td>...</td>\n",
       "      <td>Low-range product</td>\n",
       "      <td>Regularly busy</td>\n",
       "      <td>Regularly busy</td>\n",
       "      <td>Average orders</td>\n",
       "      <td>10</td>\n",
       "      <td>New customer</td>\n",
       "      <td>6.367797</td>\n",
       "      <td>Low spender</td>\n",
       "      <td>20.0</td>\n",
       "      <td>Regular customer</td>\n",
       "    </tr>\n",
       "    <tr>\n",
       "      <th>4</th>\n",
       "      <td>0</td>\n",
       "      <td>2539329</td>\n",
       "      <td>1</td>\n",
       "      <td>1</td>\n",
       "      <td>2</td>\n",
       "      <td>8</td>\n",
       "      <td>0.0</td>\n",
       "      <td>26405</td>\n",
       "      <td>5</td>\n",
       "      <td>0</td>\n",
       "      <td>...</td>\n",
       "      <td>Low-range product</td>\n",
       "      <td>Regularly busy</td>\n",
       "      <td>Regularly busy</td>\n",
       "      <td>Average orders</td>\n",
       "      <td>10</td>\n",
       "      <td>New customer</td>\n",
       "      <td>6.367797</td>\n",
       "      <td>Low spender</td>\n",
       "      <td>20.0</td>\n",
       "      <td>Regular customer</td>\n",
       "    </tr>\n",
       "  </tbody>\n",
       "</table>\n",
       "<p>5 rows × 27 columns</p>\n",
       "</div>"
      ],
      "text/plain": [
       "   Unnamed: 0  order_id  user_id  order_number  orders_day_of_week  \\\n",
       "0           0   2539329        1             1                   2   \n",
       "1           0   2539329        1             1                   2   \n",
       "2           0   2539329        1             1                   2   \n",
       "3           0   2539329        1             1                   2   \n",
       "4           0   2539329        1             1                   2   \n",
       "\n",
       "   order_hour_of_day  days_since_prior_order  product_id  add_to_cart_order  \\\n",
       "0                  8                     0.0         196                  1   \n",
       "1                  8                     0.0       14084                  2   \n",
       "2                  8                     0.0       12427                  3   \n",
       "3                  8                     0.0       26088                  4   \n",
       "4                  8                     0.0       26405                  5   \n",
       "\n",
       "   reordered  ...    price_range_loc     busiest_day    busiest_days  \\\n",
       "0          0  ...  Low-range product  Regularly busy  Regularly busy   \n",
       "1          0  ...  Low-range product  Regularly busy  Regularly busy   \n",
       "2          0  ...  Low-range product  Regularly busy  Regularly busy   \n",
       "3          0  ...  Low-range product  Regularly busy  Regularly busy   \n",
       "4          0  ...  Low-range product  Regularly busy  Regularly busy   \n",
       "\n",
       "   busiest_period_of_day  max_order  loyalty_flag avg_product_price  \\\n",
       "0         Average orders         10  New customer          6.367797   \n",
       "1         Average orders         10  New customer          6.367797   \n",
       "2         Average orders         10  New customer          6.367797   \n",
       "3         Average orders         10  New customer          6.367797   \n",
       "4         Average orders         10  New customer          6.367797   \n",
       "\n",
       "  spending_flag median_days_between_orders order_frequency_flag  \n",
       "0   Low spender                       20.0     Regular customer  \n",
       "1   Low spender                       20.0     Regular customer  \n",
       "2   Low spender                       20.0     Regular customer  \n",
       "3   Low spender                       20.0     Regular customer  \n",
       "4   Low spender                       20.0     Regular customer  \n",
       "\n",
       "[5 rows x 27 columns]"
      ]
     },
     "execution_count": 228,
     "metadata": {},
     "output_type": "execute_result"
    }
   ],
   "source": [
    "#identify shared column\n",
    "order_products.head()"
   ]
  },
  {
   "cell_type": "markdown",
   "id": "39451867-fa81-450d-a975-dc8a1796030e",
   "metadata": {},
   "source": [
    "Both dataframes share 'user_id'column"
   ]
  },
  {
   "cell_type": "code",
   "execution_count": 231,
   "id": "16d88ceb-d6d7-43d8-acd4-87dd3c9ca7f2",
   "metadata": {},
   "outputs": [
    {
     "data": {
      "text/plain": [
       "dtype('int64')"
      ]
     },
     "execution_count": 231,
     "metadata": {},
     "output_type": "execute_result"
    }
   ],
   "source": [
    "#checking data type for each data fra9me\n",
    "order_products.dtypes['user_id']\n"
   ]
  },
  {
   "cell_type": "code",
   "execution_count": 233,
   "id": "302169ae-ee80-4a25-9475-d4e30e553dfa",
   "metadata": {},
   "outputs": [
    {
     "data": {
      "text/plain": [
       "dtype('O')"
      ]
     },
     "execution_count": 233,
     "metadata": {},
     "output_type": "execute_result"
    }
   ],
   "source": [
    "df_customers.dtypes['user_id']"
   ]
  },
  {
   "cell_type": "code",
   "execution_count": 235,
   "id": "5c80f365-d86c-48a3-8198-ac9e2d8241cd",
   "metadata": {},
   "outputs": [],
   "source": [
    "# Convert int64 columns to int32 in order_products\n",
    "order_products = order_products.astype({col: 'int32' for col in order_products.select_dtypes(include='int64').columns})"
   ]
  },
  {
   "cell_type": "code",
   "execution_count": 237,
   "id": "2fbabf07-cd46-44d7-b77d-f1e8965cd3a3",
   "metadata": {},
   "outputs": [
    {
     "name": "stdout",
     "output_type": "stream",
     "text": [
      "<class 'pandas.core.frame.DataFrame'>\n",
      "RangeIndex: 32404859 entries, 0 to 32404858\n",
      "Data columns (total 27 columns):\n",
      " #   Column                      Dtype   \n",
      "---  ------                      -----   \n",
      " 0   Unnamed: 0                  int32   \n",
      " 1   order_id                    int32   \n",
      " 2   user_id                     int32   \n",
      " 3   order_number                int32   \n",
      " 4   orders_day_of_week          int32   \n",
      " 5   order_hour_of_day           int32   \n",
      " 6   days_since_prior_order      float64 \n",
      " 7   product_id                  int32   \n",
      " 8   add_to_cart_order           int32   \n",
      " 9   reordered                   int32   \n",
      " 10  _merge                      category\n",
      " 11  product_name                object  \n",
      " 12  aisle_id                    int32   \n",
      " 13  department_id               int32   \n",
      " 14  prices                      float64 \n",
      " 15  match                       category\n",
      " 16  prices_range_loc            object  \n",
      " 17  price_range_loc             object  \n",
      " 18  busiest_day                 object  \n",
      " 19  busiest_days                object  \n",
      " 20  busiest_period_of_day       object  \n",
      " 21  max_order                   int32   \n",
      " 22  loyalty_flag                object  \n",
      " 23  avg_product_price           float64 \n",
      " 24  spending_flag               object  \n",
      " 25  median_days_between_orders  float64 \n",
      " 26  order_frequency_flag        object  \n",
      "dtypes: category(2), float64(4), int32(12), object(9)\n",
      "memory usage: 4.6+ GB\n"
     ]
    }
   ],
   "source": [
    "order_products.info()"
   ]
  },
  {
   "cell_type": "code",
   "execution_count": 239,
   "id": "4778efe3-8101-44f8-8f0c-e1a744fffd35",
   "metadata": {},
   "outputs": [],
   "source": [
    "df_customers['user_id'] = df_customers['user_id'].astype(int)\n",
    "order_products['user_id'] = order_products['user_id'].astype(int)\n"
   ]
  },
  {
   "cell_type": "code",
   "execution_count": 246,
   "id": "2daabd8b-557a-405d-a6a1-bfcf0c81d546",
   "metadata": {},
   "outputs": [],
   "source": [
    "# Drop the existing '_merge' column from previous exercises\n",
    "order_products = order_products.drop(columns=['_merge'])"
   ]
  },
  {
   "cell_type": "markdown",
   "id": "055d9b16-e4e5-48f1-a97c-c4c260b751d7",
   "metadata": {},
   "source": [
    "Both columns match data types"
   ]
  },
  {
   "cell_type": "code",
   "execution_count": 249,
   "id": "4032cc10-5988-4799-aa86-8b9a2cf1925b",
   "metadata": {},
   "outputs": [],
   "source": [
    "#Merge the two Dataframes using the column user_id\n",
    "ord_prods_cust = order_products.merge(df_customers, on='user_id', indicator=True)\n"
   ]
  },
  {
   "cell_type": "code",
   "execution_count": 251,
   "id": "22e42b83-03c5-40f7-aba2-55e9245ff6a6",
   "metadata": {},
   "outputs": [
    {
     "data": {
      "text/plain": [
       "(32404859, 36)"
      ]
     },
     "execution_count": 251,
     "metadata": {},
     "output_type": "execute_result"
    }
   ],
   "source": [
    "#check the shape \n",
    "ord_prods_cust.shape"
   ]
  },
  {
   "cell_type": "code",
   "execution_count": 253,
   "id": "4fe694ca-3b41-44b6-b6f5-618bdec8b958",
   "metadata": {},
   "outputs": [
    {
     "data": {
      "text/html": [
       "<div>\n",
       "<style scoped>\n",
       "    .dataframe tbody tr th:only-of-type {\n",
       "        vertical-align: middle;\n",
       "    }\n",
       "\n",
       "    .dataframe tbody tr th {\n",
       "        vertical-align: top;\n",
       "    }\n",
       "\n",
       "    .dataframe thead th {\n",
       "        text-align: right;\n",
       "    }\n",
       "</style>\n",
       "<table border=\"1\" class=\"dataframe\">\n",
       "  <thead>\n",
       "    <tr style=\"text-align: right;\">\n",
       "      <th></th>\n",
       "      <th>Unnamed: 0</th>\n",
       "      <th>order_id</th>\n",
       "      <th>user_id</th>\n",
       "      <th>order_number</th>\n",
       "      <th>orders_day_of_week</th>\n",
       "      <th>order_hour_of_day</th>\n",
       "      <th>days_since_prior_order</th>\n",
       "      <th>product_id</th>\n",
       "      <th>add_to_cart_order</th>\n",
       "      <th>reordered</th>\n",
       "      <th>...</th>\n",
       "      <th>first_name</th>\n",
       "      <th>surname</th>\n",
       "      <th>gender</th>\n",
       "      <th>state</th>\n",
       "      <th>age</th>\n",
       "      <th>date_joined</th>\n",
       "      <th>n_dependants</th>\n",
       "      <th>marital_status</th>\n",
       "      <th>income</th>\n",
       "      <th>_merge</th>\n",
       "    </tr>\n",
       "  </thead>\n",
       "  <tbody>\n",
       "    <tr>\n",
       "      <th>0</th>\n",
       "      <td>0</td>\n",
       "      <td>2539329</td>\n",
       "      <td>1</td>\n",
       "      <td>1</td>\n",
       "      <td>2</td>\n",
       "      <td>8</td>\n",
       "      <td>0.0</td>\n",
       "      <td>196</td>\n",
       "      <td>1</td>\n",
       "      <td>0</td>\n",
       "      <td>...</td>\n",
       "      <td>Linda</td>\n",
       "      <td>Nguyen</td>\n",
       "      <td>Female</td>\n",
       "      <td>Alabama</td>\n",
       "      <td>31</td>\n",
       "      <td>2/17/2019</td>\n",
       "      <td>3</td>\n",
       "      <td>married</td>\n",
       "      <td>40423</td>\n",
       "      <td>both</td>\n",
       "    </tr>\n",
       "    <tr>\n",
       "      <th>1</th>\n",
       "      <td>0</td>\n",
       "      <td>2539329</td>\n",
       "      <td>1</td>\n",
       "      <td>1</td>\n",
       "      <td>2</td>\n",
       "      <td>8</td>\n",
       "      <td>0.0</td>\n",
       "      <td>14084</td>\n",
       "      <td>2</td>\n",
       "      <td>0</td>\n",
       "      <td>...</td>\n",
       "      <td>Linda</td>\n",
       "      <td>Nguyen</td>\n",
       "      <td>Female</td>\n",
       "      <td>Alabama</td>\n",
       "      <td>31</td>\n",
       "      <td>2/17/2019</td>\n",
       "      <td>3</td>\n",
       "      <td>married</td>\n",
       "      <td>40423</td>\n",
       "      <td>both</td>\n",
       "    </tr>\n",
       "    <tr>\n",
       "      <th>2</th>\n",
       "      <td>0</td>\n",
       "      <td>2539329</td>\n",
       "      <td>1</td>\n",
       "      <td>1</td>\n",
       "      <td>2</td>\n",
       "      <td>8</td>\n",
       "      <td>0.0</td>\n",
       "      <td>12427</td>\n",
       "      <td>3</td>\n",
       "      <td>0</td>\n",
       "      <td>...</td>\n",
       "      <td>Linda</td>\n",
       "      <td>Nguyen</td>\n",
       "      <td>Female</td>\n",
       "      <td>Alabama</td>\n",
       "      <td>31</td>\n",
       "      <td>2/17/2019</td>\n",
       "      <td>3</td>\n",
       "      <td>married</td>\n",
       "      <td>40423</td>\n",
       "      <td>both</td>\n",
       "    </tr>\n",
       "    <tr>\n",
       "      <th>3</th>\n",
       "      <td>0</td>\n",
       "      <td>2539329</td>\n",
       "      <td>1</td>\n",
       "      <td>1</td>\n",
       "      <td>2</td>\n",
       "      <td>8</td>\n",
       "      <td>0.0</td>\n",
       "      <td>26088</td>\n",
       "      <td>4</td>\n",
       "      <td>0</td>\n",
       "      <td>...</td>\n",
       "      <td>Linda</td>\n",
       "      <td>Nguyen</td>\n",
       "      <td>Female</td>\n",
       "      <td>Alabama</td>\n",
       "      <td>31</td>\n",
       "      <td>2/17/2019</td>\n",
       "      <td>3</td>\n",
       "      <td>married</td>\n",
       "      <td>40423</td>\n",
       "      <td>both</td>\n",
       "    </tr>\n",
       "    <tr>\n",
       "      <th>4</th>\n",
       "      <td>0</td>\n",
       "      <td>2539329</td>\n",
       "      <td>1</td>\n",
       "      <td>1</td>\n",
       "      <td>2</td>\n",
       "      <td>8</td>\n",
       "      <td>0.0</td>\n",
       "      <td>26405</td>\n",
       "      <td>5</td>\n",
       "      <td>0</td>\n",
       "      <td>...</td>\n",
       "      <td>Linda</td>\n",
       "      <td>Nguyen</td>\n",
       "      <td>Female</td>\n",
       "      <td>Alabama</td>\n",
       "      <td>31</td>\n",
       "      <td>2/17/2019</td>\n",
       "      <td>3</td>\n",
       "      <td>married</td>\n",
       "      <td>40423</td>\n",
       "      <td>both</td>\n",
       "    </tr>\n",
       "  </tbody>\n",
       "</table>\n",
       "<p>5 rows × 36 columns</p>\n",
       "</div>"
      ],
      "text/plain": [
       "   Unnamed: 0  order_id  user_id  order_number  orders_day_of_week  \\\n",
       "0           0   2539329        1             1                   2   \n",
       "1           0   2539329        1             1                   2   \n",
       "2           0   2539329        1             1                   2   \n",
       "3           0   2539329        1             1                   2   \n",
       "4           0   2539329        1             1                   2   \n",
       "\n",
       "   order_hour_of_day  days_since_prior_order  product_id  add_to_cart_order  \\\n",
       "0                  8                     0.0         196                  1   \n",
       "1                  8                     0.0       14084                  2   \n",
       "2                  8                     0.0       12427                  3   \n",
       "3                  8                     0.0       26088                  4   \n",
       "4                  8                     0.0       26405                  5   \n",
       "\n",
       "   reordered  ... first_name  surname  gender    state age date_joined  \\\n",
       "0          0  ...      Linda   Nguyen  Female  Alabama  31   2/17/2019   \n",
       "1          0  ...      Linda   Nguyen  Female  Alabama  31   2/17/2019   \n",
       "2          0  ...      Linda   Nguyen  Female  Alabama  31   2/17/2019   \n",
       "3          0  ...      Linda   Nguyen  Female  Alabama  31   2/17/2019   \n",
       "4          0  ...      Linda   Nguyen  Female  Alabama  31   2/17/2019   \n",
       "\n",
       "  n_dependants marital_status income _merge  \n",
       "0            3        married  40423   both  \n",
       "1            3        married  40423   both  \n",
       "2            3        married  40423   both  \n",
       "3            3        married  40423   both  \n",
       "4            3        married  40423   both  \n",
       "\n",
       "[5 rows x 36 columns]"
      ]
     },
     "execution_count": 253,
     "metadata": {},
     "output_type": "execute_result"
    }
   ],
   "source": [
    "ord_prods_cust.head(5)"
   ]
  },
  {
   "cell_type": "code",
   "execution_count": 255,
   "id": "c8fc36bb-0685-4c1c-b7c7-973b51ca0a90",
   "metadata": {},
   "outputs": [
    {
     "data": {
      "text/plain": [
       "_merge\n",
       "both          32404859\n",
       "left_only            0\n",
       "right_only           0\n",
       "Name: count, dtype: int64"
      ]
     },
     "execution_count": 255,
     "metadata": {},
     "output_type": "execute_result"
    }
   ],
   "source": [
    "#check inner join value counts\n",
    "ord_prods_cust['_merge'].value_counts()"
   ]
  },
  {
   "cell_type": "code",
   "execution_count": 257,
   "id": "74f8f508-968a-4e27-8f3b-608823c02d51",
   "metadata": {},
   "outputs": [
    {
     "data": {
      "text/plain": [
       "Unnamed: 0                       int32\n",
       "order_id                         int32\n",
       "user_id                          int32\n",
       "order_number                     int32\n",
       "orders_day_of_week               int32\n",
       "order_hour_of_day                int32\n",
       "days_since_prior_order         float64\n",
       "product_id                       int32\n",
       "add_to_cart_order                int32\n",
       "reordered                        int32\n",
       "product_name                    object\n",
       "aisle_id                         int32\n",
       "department_id                    int32\n",
       "prices                         float64\n",
       "match                         category\n",
       "prices_range_loc                object\n",
       "price_range_loc                 object\n",
       "busiest_day                     object\n",
       "busiest_days                    object\n",
       "busiest_period_of_day           object\n",
       "max_order                        int32\n",
       "loyalty_flag                    object\n",
       "avg_product_price              float64\n",
       "spending_flag                   object\n",
       "median_days_between_orders     float64\n",
       "order_frequency_flag            object\n",
       "first_name                      object\n",
       "surname                         object\n",
       "gender                          object\n",
       "state                           object\n",
       "age                               int8\n",
       "date_joined                     object\n",
       "n_dependants                      int8\n",
       "marital_status                  object\n",
       "income                           int64\n",
       "_merge                        category\n",
       "dtype: object"
      ]
     },
     "execution_count": 257,
     "metadata": {},
     "output_type": "execute_result"
    }
   ],
   "source": [
    "#check data types\n",
    "ord_prods_cust.dtypes"
   ]
  },
  {
   "cell_type": "code",
   "execution_count": 259,
   "id": "d93305cd-32ab-44eb-a512-d958de795e03",
   "metadata": {},
   "outputs": [],
   "source": [
    "#changing order_id data types\n",
    "ord_prods_cust['order_id']= ord_prods_cust['order_id'].astype('str')"
   ]
  },
  {
   "cell_type": "code",
   "execution_count": 261,
   "id": "a9695442-1aff-4eb1-b640-e575476d49df",
   "metadata": {},
   "outputs": [
    {
     "data": {
      "text/plain": [
       "Unnamed: 0                       int32\n",
       "order_id                        object\n",
       "user_id                          int32\n",
       "order_number                     int32\n",
       "orders_day_of_week               int32\n",
       "order_hour_of_day                int32\n",
       "days_since_prior_order         float64\n",
       "product_id                       int32\n",
       "add_to_cart_order                int32\n",
       "reordered                        int32\n",
       "product_name                    object\n",
       "aisle_id                         int32\n",
       "department_id                    int32\n",
       "prices                         float64\n",
       "match                         category\n",
       "prices_range_loc                object\n",
       "price_range_loc                 object\n",
       "busiest_day                     object\n",
       "busiest_days                    object\n",
       "busiest_period_of_day           object\n",
       "max_order                        int32\n",
       "loyalty_flag                    object\n",
       "avg_product_price              float64\n",
       "spending_flag                   object\n",
       "median_days_between_orders     float64\n",
       "order_frequency_flag            object\n",
       "first_name                      object\n",
       "surname                         object\n",
       "gender                          object\n",
       "state                           object\n",
       "age                               int8\n",
       "date_joined                     object\n",
       "n_dependants                      int8\n",
       "marital_status                  object\n",
       "income                           int64\n",
       "_merge                        category\n",
       "dtype: object"
      ]
     },
     "execution_count": 261,
     "metadata": {},
     "output_type": "execute_result"
    }
   ],
   "source": [
    "ord_prods_cust.dtypes"
   ]
  },
  {
   "cell_type": "markdown",
   "id": "1c96b218-7de8-4e00-8ee7-745bb476b841",
   "metadata": {},
   "source": [
    "Exporting new dataframe as pickle file.\n"
   ]
  },
  {
   "cell_type": "code",
   "execution_count": 264,
   "id": "8dc5065e-267f-4bf8-8aa1-6deb7bc92df9",
   "metadata": {},
   "outputs": [],
   "source": [
    "ord_prods_cust.to_pickle(os.path.join(path, '02 Data','Prepared Data', 'orders_products_customers_merged.pkl'))"
   ]
  },
  {
   "cell_type": "code",
   "execution_count": null,
   "id": "b1559917-5b98-4cf3-92f1-4c56a7c06b29",
   "metadata": {},
   "outputs": [],
   "source": []
  }
 ],
 "metadata": {
  "kernelspec": {
   "display_name": "Python [conda env:base] *",
   "language": "python",
   "name": "conda-base-py"
  },
  "language_info": {
   "codemirror_mode": {
    "name": "ipython",
    "version": 3
   },
   "file_extension": ".py",
   "mimetype": "text/x-python",
   "name": "python",
   "nbconvert_exporter": "python",
   "pygments_lexer": "ipython3",
   "version": "3.12.7"
  }
 },
 "nbformat": 4,
 "nbformat_minor": 5
}
