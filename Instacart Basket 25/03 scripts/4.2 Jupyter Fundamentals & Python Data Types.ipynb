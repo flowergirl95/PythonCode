{
 "cells": [
  {
   "cell_type": "markdown",
   "id": "cfb7f957-2f97-47be-9086-281a2092a649",
   "metadata": {},
   "source": [
    "#01.Importing libraries."
   ]
  },
  {
   "cell_type": "code",
   "execution_count": 5,
   "id": "4242aad4-26d9-46fa-ba1b-c9cf72d6032f",
   "metadata": {},
   "outputs": [],
   "source": [
    "# Import libraries \n",
    "import pandas as pd\n",
    "import numpy as np\n",
    "import os "
   ]
  },
  {
   "cell_type": "markdown",
   "id": "25fc35c8-7066-427d-890a-01cd7985a28c",
   "metadata": {},
   "source": [
    "#02. Data types"
   ]
  },
  {
   "cell_type": "code",
   "execution_count": 1,
   "id": "d09eaddf-34a6-49f7-9020-1850afc037d8",
   "metadata": {},
   "outputs": [],
   "source": [
    "#3 code 3 differents ways of reaching a result of 100\n",
    "x=50"
   ]
  },
  {
   "cell_type": "code",
   "execution_count": 3,
   "id": "7e5acd29-1967-4cd9-86a6-1c68dcf3bcbd",
   "metadata": {},
   "outputs": [
    {
     "data": {
      "text/plain": [
       "100"
      ]
     },
     "execution_count": 3,
     "metadata": {},
     "output_type": "execute_result"
    }
   ],
   "source": [
    "x*2"
   ]
  },
  {
   "cell_type": "code",
   "execution_count": 5,
   "id": "c9cccd4d-e4e3-4c58-995b-d20ef85f2a62",
   "metadata": {},
   "outputs": [],
   "source": [
    "y=50"
   ]
  },
  {
   "cell_type": "code",
   "execution_count": 7,
   "id": "e1e01411-d98b-451c-83e9-903fe79f3f18",
   "metadata": {},
   "outputs": [
    {
     "data": {
      "text/plain": [
       "100"
      ]
     },
     "execution_count": 7,
     "metadata": {},
     "output_type": "execute_result"
    }
   ],
   "source": [
    "x+y"
   ]
  },
  {
   "cell_type": "code",
   "execution_count": 9,
   "id": "4c0a29a3-dbd2-482e-97d2-65ba3b4d5e7d",
   "metadata": {},
   "outputs": [],
   "source": [
    "m=200\n",
    "n=50\n",
    "p=50"
   ]
  },
  {
   "cell_type": "code",
   "execution_count": 11,
   "id": "be99e88f-9d84-4527-9ba1-9ef3139a514a",
   "metadata": {},
   "outputs": [
    {
     "data": {
      "text/plain": [
       "100"
      ]
     },
     "execution_count": 11,
     "metadata": {},
     "output_type": "execute_result"
    }
   ],
   "source": [
    "m-n-p"
   ]
  },
  {
   "cell_type": "code",
   "execution_count": 13,
   "id": "52642e1c-5a31-4ee2-85ba-bf751f65382b",
   "metadata": {},
   "outputs": [],
   "source": [
    "# Code 2 floating-point variables and divide them by each other\n",
    "a=22.5\n",
    "b=4.5"
   ]
  },
  {
   "cell_type": "code",
   "execution_count": 15,
   "id": "8a2eab13-15e4-4f77-be27-0606890a2580",
   "metadata": {},
   "outputs": [
    {
     "data": {
      "text/plain": [
       "5.0"
      ]
     },
     "execution_count": 15,
     "metadata": {},
     "output_type": "execute_result"
    }
   ],
   "source": [
    "a/b"
   ]
  },
  {
   "cell_type": "code",
   "execution_count": 31,
   "id": "8e0edea5-7da8-4f6a-bf82-c26d34d118b5",
   "metadata": {},
   "outputs": [],
   "source": [
    "# Construct a short word made of separate strings\n",
    "x= 'Beatriz'\n",
    "y= 'Acosta'"
   ]
  },
  {
   "cell_type": "code",
   "execution_count": 33,
   "id": "35860119-9bfa-4333-bec1-4a96a70a1e86",
   "metadata": {},
   "outputs": [
    {
     "name": "stdout",
     "output_type": "stream",
     "text": [
      "BeatrizAcosta\n"
     ]
    }
   ],
   "source": [
    "print(x+y)"
   ]
  },
  {
   "cell_type": "code",
   "execution_count": 35,
   "id": "11b182bc-416c-4f4f-8400-5fc7692cf5f8",
   "metadata": {},
   "outputs": [],
   "source": [
    "# Construct 2 short sentences made of separate strings\n",
    "part1= \"The sun\"\n",
    "part2= \"is shining\"\n"
   ]
  },
  {
   "cell_type": "code",
   "execution_count": 39,
   "id": "77ce9726-dada-471a-ae4a-568bcab185d2",
   "metadata": {},
   "outputs": [],
   "source": [
    "sentence1= part1+part2"
   ]
  },
  {
   "cell_type": "code",
   "execution_count": 45,
   "id": "6bcee0d3-951e-479c-afcd-007f1e1913a8",
   "metadata": {},
   "outputs": [
    {
     "name": "stdout",
     "output_type": "stream",
     "text": [
      "sentence 1: The sunis shining\n"
     ]
    }
   ],
   "source": [
    "print(\"sentence 1:\", sentence1)"
   ]
  },
  {
   "cell_type": "code",
   "execution_count": 47,
   "id": "d819fb7f-aa8f-4ceb-8b90-2dfe80b62654",
   "metadata": {},
   "outputs": [],
   "source": [
    "Part3= \"Beatriz\"\n",
    "Part4= \"loves coding\""
   ]
  },
  {
   "cell_type": "code",
   "execution_count": 49,
   "id": "92f01f45-f8d1-466e-988e-299cb1801bd6",
   "metadata": {},
   "outputs": [],
   "source": [
    "sentence2 = Part3+ Part4"
   ]
  },
  {
   "cell_type": "code",
   "execution_count": 51,
   "id": "da8b3081-e1b6-4e11-84c8-ed5068609454",
   "metadata": {},
   "outputs": [
    {
     "name": "stdout",
     "output_type": "stream",
     "text": [
      "sentence2: Beatrizloves coding\n"
     ]
    }
   ],
   "source": [
    "print(\"sentence2:\", sentence2)"
   ]
  },
  {
   "cell_type": "code",
   "execution_count": 53,
   "id": "77b32655-3986-4c6c-9664-fee6f5b78281",
   "metadata": {},
   "outputs": [],
   "source": [
    "#Bonus task \n",
    "z= \"Hello\""
   ]
  },
  {
   "cell_type": "code",
   "execution_count": 55,
   "id": "281391be-5a02-4507-b372-9dd3a48f9f2c",
   "metadata": {},
   "outputs": [
    {
     "name": "stdout",
     "output_type": "stream",
     "text": [
      "HelloHelloHelloHelloHelloHelloHelloHelloHelloHelloHelloHelloHelloHelloHelloHelloHelloHelloHelloHelloHelloHelloHelloHelloHelloHelloHelloHelloHelloHelloHelloHelloHelloHelloHelloHelloHelloHelloHelloHelloHelloHelloHelloHelloHelloHelloHelloHelloHelloHelloHelloHelloHelloHelloHelloHelloHelloHelloHelloHelloHelloHelloHelloHelloHelloHelloHelloHelloHelloHelloHelloHelloHelloHelloHelloHelloHelloHelloHelloHelloHelloHelloHelloHelloHelloHelloHelloHelloHelloHelloHelloHelloHelloHelloHelloHelloHelloHelloHelloHello\n"
     ]
    }
   ],
   "source": [
    "print( z*100)"
   ]
  },
  {
   "cell_type": "code",
   "execution_count": null,
   "id": "eef370cd-352b-4668-b524-d253841ef65f",
   "metadata": {},
   "outputs": [],
   "source": []
  }
 ],
 "metadata": {
  "kernelspec": {
   "display_name": "Python [conda env:base] *",
   "language": "python",
   "name": "conda-base-py"
  },
  "language_info": {
   "codemirror_mode": {
    "name": "ipython",
    "version": 3
   },
   "file_extension": ".py",
   "mimetype": "text/x-python",
   "name": "python",
   "nbconvert_exporter": "python",
   "pygments_lexer": "ipython3",
   "version": "3.12.7"
  }
 },
 "nbformat": 4,
 "nbformat_minor": 5
}
